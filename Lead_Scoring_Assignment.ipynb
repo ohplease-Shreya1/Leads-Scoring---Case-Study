{
  "cells": [
    {
      "cell_type": "markdown",
      "metadata": {
        "id": "W9EfWxd093Vt"
      },
      "source": [
        "### Problem Statement :\n",
        "\n",
        "X Education sells online courses to industry professionals.The company markets its courses on several websites and search engines like Google.\n",
        "Once these people land on the website, they might browse the courses or fill up a form for the course or watch some videos.When \n",
        "these people fill up a form providing their email address or phone number, they are classified to be a lead. Moreover, the \n",
        "company also gets leads through past referrals. \n",
        "\n",
        "Once these leads are acquired, employees from the sales team start making calls, writing emails, etc. Through this process, \n",
        "some of the leads get converted while most do not.The typical lead conversion rate at X education is around 30%. \n",
        "\n",
        "### Business Goal :\n",
        "\n",
        "X Education needs help in selecting the most promising leads, i.e. the leads that are most likely to convert into paying \n",
        "customers. \n",
        "\n",
        "The company needs a model wherein you a lead score is assigned to each of the leads such that the customers with higher lead \n",
        "score have a higher conversion chance and the customers with lower lead score have a lower conversion chance. \n",
        "\n",
        "The CEO, in particular, has given a ballpark of the target lead conversion rate to be around 80%."
      ]
    },
    {
      "cell_type": "markdown",
      "metadata": {
        "id": "VJpwyfr193Vz"
      },
      "source": [
        "## Step 1: Reading and Understanding the Data\n",
        "\n",
        "Let us first import NumPy and Pandas and read the dataset"
      ]
    },
    {
      "cell_type": "code",
      "execution_count": null,
      "metadata": {
        "id": "rF53SR9k93V0"
      },
      "outputs": [],
      "source": [
        "# Supress Warnings\n",
        "\n",
        "import warnings\n",
        "warnings.filterwarnings('ignore')"
      ]
    },
    {
      "cell_type": "code",
      "execution_count": null,
      "metadata": {
        "id": "iIvnEJ-D93V2"
      },
      "outputs": [],
      "source": [
        "# Importing all required packages\n",
        "\n",
        "import numpy as np\n",
        "import pandas as pd\n",
        "import matplotlib.pyplot as plt\n",
        "import seaborn as sns\n",
        "\n",
        "#import pandas_profile\n",
        "\n",
        "%matplotlib inline"
      ]
    },
    {
      "cell_type": "code",
      "execution_count": null,
      "metadata": {
        "id": "HpRKsUIP93V3",
        "outputId": "e279435d-6a28-445f-be0a-8fcaf375b080"
      },
      "outputs": [
        {
          "data": {
            "text/html": [
              "<div>\n",
              "<style scoped>\n",
              "    .dataframe tbody tr th:only-of-type {\n",
              "        vertical-align: middle;\n",
              "    }\n",
              "\n",
              "    .dataframe tbody tr th {\n",
              "        vertical-align: top;\n",
              "    }\n",
              "\n",
              "    .dataframe thead th {\n",
              "        text-align: right;\n",
              "    }\n",
              "</style>\n",
              "<table border=\"1\" class=\"dataframe\">\n",
              "  <thead>\n",
              "    <tr style=\"text-align: right;\">\n",
              "      <th></th>\n",
              "      <th>Prospect ID</th>\n",
              "      <th>Lead Number</th>\n",
              "      <th>Lead Origin</th>\n",
              "      <th>Lead Source</th>\n",
              "      <th>Do Not Email</th>\n",
              "      <th>Do Not Call</th>\n",
              "      <th>Converted</th>\n",
              "      <th>TotalVisits</th>\n",
              "      <th>Total Time Spent on Website</th>\n",
              "      <th>Page Views Per Visit</th>\n",
              "      <th>...</th>\n",
              "      <th>Get updates on DM Content</th>\n",
              "      <th>Lead Profile</th>\n",
              "      <th>City</th>\n",
              "      <th>Asymmetrique Activity Index</th>\n",
              "      <th>Asymmetrique Profile Index</th>\n",
              "      <th>Asymmetrique Activity Score</th>\n",
              "      <th>Asymmetrique Profile Score</th>\n",
              "      <th>I agree to pay the amount through cheque</th>\n",
              "      <th>A free copy of Mastering The Interview</th>\n",
              "      <th>Last Notable Activity</th>\n",
              "    </tr>\n",
              "  </thead>\n",
              "  <tbody>\n",
              "    <tr>\n",
              "      <th>0</th>\n",
              "      <td>7927b2df-8bba-4d29-b9a2-b6e0beafe620</td>\n",
              "      <td>660737</td>\n",
              "      <td>API</td>\n",
              "      <td>Olark Chat</td>\n",
              "      <td>No</td>\n",
              "      <td>No</td>\n",
              "      <td>0</td>\n",
              "      <td>0.0</td>\n",
              "      <td>0</td>\n",
              "      <td>0.0</td>\n",
              "      <td>...</td>\n",
              "      <td>No</td>\n",
              "      <td>Select</td>\n",
              "      <td>Select</td>\n",
              "      <td>02.Medium</td>\n",
              "      <td>02.Medium</td>\n",
              "      <td>15.0</td>\n",
              "      <td>15.0</td>\n",
              "      <td>No</td>\n",
              "      <td>No</td>\n",
              "      <td>Modified</td>\n",
              "    </tr>\n",
              "    <tr>\n",
              "      <th>1</th>\n",
              "      <td>2a272436-5132-4136-86fa-dcc88c88f482</td>\n",
              "      <td>660728</td>\n",
              "      <td>API</td>\n",
              "      <td>Organic Search</td>\n",
              "      <td>No</td>\n",
              "      <td>No</td>\n",
              "      <td>0</td>\n",
              "      <td>5.0</td>\n",
              "      <td>674</td>\n",
              "      <td>2.5</td>\n",
              "      <td>...</td>\n",
              "      <td>No</td>\n",
              "      <td>Select</td>\n",
              "      <td>Select</td>\n",
              "      <td>02.Medium</td>\n",
              "      <td>02.Medium</td>\n",
              "      <td>15.0</td>\n",
              "      <td>15.0</td>\n",
              "      <td>No</td>\n",
              "      <td>No</td>\n",
              "      <td>Email Opened</td>\n",
              "    </tr>\n",
              "    <tr>\n",
              "      <th>2</th>\n",
              "      <td>8cc8c611-a219-4f35-ad23-fdfd2656bd8a</td>\n",
              "      <td>660727</td>\n",
              "      <td>Landing Page Submission</td>\n",
              "      <td>Direct Traffic</td>\n",
              "      <td>No</td>\n",
              "      <td>No</td>\n",
              "      <td>1</td>\n",
              "      <td>2.0</td>\n",
              "      <td>1532</td>\n",
              "      <td>2.0</td>\n",
              "      <td>...</td>\n",
              "      <td>No</td>\n",
              "      <td>Potential Lead</td>\n",
              "      <td>Mumbai</td>\n",
              "      <td>02.Medium</td>\n",
              "      <td>01.High</td>\n",
              "      <td>14.0</td>\n",
              "      <td>20.0</td>\n",
              "      <td>No</td>\n",
              "      <td>Yes</td>\n",
              "      <td>Email Opened</td>\n",
              "    </tr>\n",
              "    <tr>\n",
              "      <th>3</th>\n",
              "      <td>0cc2df48-7cf4-4e39-9de9-19797f9b38cc</td>\n",
              "      <td>660719</td>\n",
              "      <td>Landing Page Submission</td>\n",
              "      <td>Direct Traffic</td>\n",
              "      <td>No</td>\n",
              "      <td>No</td>\n",
              "      <td>0</td>\n",
              "      <td>1.0</td>\n",
              "      <td>305</td>\n",
              "      <td>1.0</td>\n",
              "      <td>...</td>\n",
              "      <td>No</td>\n",
              "      <td>Select</td>\n",
              "      <td>Mumbai</td>\n",
              "      <td>02.Medium</td>\n",
              "      <td>01.High</td>\n",
              "      <td>13.0</td>\n",
              "      <td>17.0</td>\n",
              "      <td>No</td>\n",
              "      <td>No</td>\n",
              "      <td>Modified</td>\n",
              "    </tr>\n",
              "    <tr>\n",
              "      <th>4</th>\n",
              "      <td>3256f628-e534-4826-9d63-4a8b88782852</td>\n",
              "      <td>660681</td>\n",
              "      <td>Landing Page Submission</td>\n",
              "      <td>Google</td>\n",
              "      <td>No</td>\n",
              "      <td>No</td>\n",
              "      <td>1</td>\n",
              "      <td>2.0</td>\n",
              "      <td>1428</td>\n",
              "      <td>1.0</td>\n",
              "      <td>...</td>\n",
              "      <td>No</td>\n",
              "      <td>Select</td>\n",
              "      <td>Mumbai</td>\n",
              "      <td>02.Medium</td>\n",
              "      <td>01.High</td>\n",
              "      <td>15.0</td>\n",
              "      <td>18.0</td>\n",
              "      <td>No</td>\n",
              "      <td>No</td>\n",
              "      <td>Modified</td>\n",
              "    </tr>\n",
              "  </tbody>\n",
              "</table>\n",
              "<p>5 rows × 37 columns</p>\n",
              "</div>"
            ],
            "text/plain": [
              "                            Prospect ID  Lead Number              Lead Origin  \\\n",
              "0  7927b2df-8bba-4d29-b9a2-b6e0beafe620       660737                      API   \n",
              "1  2a272436-5132-4136-86fa-dcc88c88f482       660728                      API   \n",
              "2  8cc8c611-a219-4f35-ad23-fdfd2656bd8a       660727  Landing Page Submission   \n",
              "3  0cc2df48-7cf4-4e39-9de9-19797f9b38cc       660719  Landing Page Submission   \n",
              "4  3256f628-e534-4826-9d63-4a8b88782852       660681  Landing Page Submission   \n",
              "\n",
              "      Lead Source Do Not Email Do Not Call  Converted  TotalVisits  \\\n",
              "0      Olark Chat           No          No          0          0.0   \n",
              "1  Organic Search           No          No          0          5.0   \n",
              "2  Direct Traffic           No          No          1          2.0   \n",
              "3  Direct Traffic           No          No          0          1.0   \n",
              "4          Google           No          No          1          2.0   \n",
              "\n",
              "   Total Time Spent on Website  Page Views Per Visit  ...  \\\n",
              "0                            0                   0.0  ...   \n",
              "1                          674                   2.5  ...   \n",
              "2                         1532                   2.0  ...   \n",
              "3                          305                   1.0  ...   \n",
              "4                         1428                   1.0  ...   \n",
              "\n",
              "  Get updates on DM Content    Lead Profile    City  \\\n",
              "0                        No          Select  Select   \n",
              "1                        No          Select  Select   \n",
              "2                        No  Potential Lead  Mumbai   \n",
              "3                        No          Select  Mumbai   \n",
              "4                        No          Select  Mumbai   \n",
              "\n",
              "  Asymmetrique Activity Index Asymmetrique Profile Index  \\\n",
              "0                   02.Medium                  02.Medium   \n",
              "1                   02.Medium                  02.Medium   \n",
              "2                   02.Medium                    01.High   \n",
              "3                   02.Medium                    01.High   \n",
              "4                   02.Medium                    01.High   \n",
              "\n",
              "  Asymmetrique Activity Score Asymmetrique Profile Score  \\\n",
              "0                        15.0                       15.0   \n",
              "1                        15.0                       15.0   \n",
              "2                        14.0                       20.0   \n",
              "3                        13.0                       17.0   \n",
              "4                        15.0                       18.0   \n",
              "\n",
              "  I agree to pay the amount through cheque  \\\n",
              "0                                       No   \n",
              "1                                       No   \n",
              "2                                       No   \n",
              "3                                       No   \n",
              "4                                       No   \n",
              "\n",
              "  A free copy of Mastering The Interview Last Notable Activity  \n",
              "0                                     No              Modified  \n",
              "1                                     No          Email Opened  \n",
              "2                                    Yes          Email Opened  \n",
              "3                                     No              Modified  \n",
              "4                                     No              Modified  \n",
              "\n",
              "[5 rows x 37 columns]"
            ]
          },
          "execution_count": 3,
          "metadata": {},
          "output_type": "execute_result"
        }
      ],
      "source": [
        "# Importing dataset\n",
        "\n",
        "leadInfo = pd.read_csv('Leads.csv', encoding = 'latin')\n",
        "leadInfo.head()"
      ]
    },
    {
      "cell_type": "code",
      "execution_count": null,
      "metadata": {
        "id": "t0_72Xa493V6",
        "outputId": "0f88e55e-d407-44ab-82c0-d4fac8fc24e2"
      },
      "outputs": [
        {
          "name": "stdout",
          "output_type": "stream",
          "text": [
            "*********************************  Info *******************************************\n",
            "<class 'pandas.core.frame.DataFrame'>\n",
            "RangeIndex: 9240 entries, 0 to 9239\n",
            "Data columns (total 37 columns):\n",
            "Prospect ID                                      9240 non-null object\n",
            "Lead Number                                      9240 non-null int64\n",
            "Lead Origin                                      9240 non-null object\n",
            "Lead Source                                      9204 non-null object\n",
            "Do Not Email                                     9240 non-null object\n",
            "Do Not Call                                      9240 non-null object\n",
            "Converted                                        9240 non-null int64\n",
            "TotalVisits                                      9103 non-null float64\n",
            "Total Time Spent on Website                      9240 non-null int64\n",
            "Page Views Per Visit                             9103 non-null float64\n",
            "Last Activity                                    9137 non-null object\n",
            "Country                                          6779 non-null object\n",
            "Specialization                                   7802 non-null object\n",
            "How did you hear about X Education               7033 non-null object\n",
            "What is your current occupation                  6550 non-null object\n",
            "What matters most to you in choosing a course    6531 non-null object\n",
            "Search                                           9240 non-null object\n",
            "Magazine                                         9240 non-null object\n",
            "Newspaper Article                                9240 non-null object\n",
            "X Education Forums                               9240 non-null object\n",
            "Newspaper                                        9240 non-null object\n",
            "Digital Advertisement                            9240 non-null object\n",
            "Through Recommendations                          9240 non-null object\n",
            "Receive More Updates About Our Courses           9240 non-null object\n",
            "Tags                                             5887 non-null object\n",
            "Lead Quality                                     4473 non-null object\n",
            "Update me on Supply Chain Content                9240 non-null object\n",
            "Get updates on DM Content                        9240 non-null object\n",
            "Lead Profile                                     6531 non-null object\n",
            "City                                             7820 non-null object\n",
            "Asymmetrique Activity Index                      5022 non-null object\n",
            "Asymmetrique Profile Index                       5022 non-null object\n",
            "Asymmetrique Activity Score                      5022 non-null float64\n",
            "Asymmetrique Profile Score                       5022 non-null float64\n",
            "I agree to pay the amount through cheque         9240 non-null object\n",
            "A free copy of Mastering The Interview           9240 non-null object\n",
            "Last Notable Activity                            9240 non-null object\n",
            "dtypes: float64(4), int64(3), object(30)\n",
            "memory usage: 2.6+ MB\n",
            "None\n",
            "*********************************  Shape ******************************************\n",
            "(9240, 37)\n",
            "**************************** Columns having null values *****************************\n",
            "Prospect ID                                      False\n",
            "Lead Number                                      False\n",
            "Lead Origin                                      False\n",
            "Lead Source                                       True\n",
            "Do Not Email                                     False\n",
            "Do Not Call                                      False\n",
            "Converted                                        False\n",
            "TotalVisits                                       True\n",
            "Total Time Spent on Website                      False\n",
            "Page Views Per Visit                              True\n",
            "Last Activity                                     True\n",
            "Country                                           True\n",
            "Specialization                                    True\n",
            "How did you hear about X Education                True\n",
            "What is your current occupation                   True\n",
            "What matters most to you in choosing a course     True\n",
            "Search                                           False\n",
            "Magazine                                         False\n",
            "Newspaper Article                                False\n",
            "X Education Forums                               False\n",
            "Newspaper                                        False\n",
            "Digital Advertisement                            False\n",
            "Through Recommendations                          False\n",
            "Receive More Updates About Our Courses           False\n",
            "Tags                                              True\n",
            "Lead Quality                                      True\n",
            "Update me on Supply Chain Content                False\n",
            "Get updates on DM Content                        False\n",
            "Lead Profile                                      True\n",
            "City                                              True\n",
            "Asymmetrique Activity Index                       True\n",
            "Asymmetrique Profile Index                        True\n",
            "Asymmetrique Activity Score                       True\n",
            "Asymmetrique Profile Score                        True\n",
            "I agree to pay the amount through cheque         False\n",
            "A free copy of Mastering The Interview           False\n",
            "Last Notable Activity                            False\n",
            "dtype: bool\n",
            "**************************** Describe *****************************\n"
          ]
        },
        {
          "data": {
            "text/html": [
              "<div>\n",
              "<style scoped>\n",
              "    .dataframe tbody tr th:only-of-type {\n",
              "        vertical-align: middle;\n",
              "    }\n",
              "\n",
              "    .dataframe tbody tr th {\n",
              "        vertical-align: top;\n",
              "    }\n",
              "\n",
              "    .dataframe thead th {\n",
              "        text-align: right;\n",
              "    }\n",
              "</style>\n",
              "<table border=\"1\" class=\"dataframe\">\n",
              "  <thead>\n",
              "    <tr style=\"text-align: right;\">\n",
              "      <th></th>\n",
              "      <th>Lead Number</th>\n",
              "      <th>Converted</th>\n",
              "      <th>TotalVisits</th>\n",
              "      <th>Total Time Spent on Website</th>\n",
              "      <th>Page Views Per Visit</th>\n",
              "      <th>Asymmetrique Activity Score</th>\n",
              "      <th>Asymmetrique Profile Score</th>\n",
              "    </tr>\n",
              "  </thead>\n",
              "  <tbody>\n",
              "    <tr>\n",
              "      <th>count</th>\n",
              "      <td>9240.000000</td>\n",
              "      <td>9240.000000</td>\n",
              "      <td>9103.000000</td>\n",
              "      <td>9240.000000</td>\n",
              "      <td>9103.000000</td>\n",
              "      <td>5022.000000</td>\n",
              "      <td>5022.000000</td>\n",
              "    </tr>\n",
              "    <tr>\n",
              "      <th>mean</th>\n",
              "      <td>617188.435606</td>\n",
              "      <td>0.385390</td>\n",
              "      <td>3.445238</td>\n",
              "      <td>487.698268</td>\n",
              "      <td>2.362820</td>\n",
              "      <td>14.306252</td>\n",
              "      <td>16.344883</td>\n",
              "    </tr>\n",
              "    <tr>\n",
              "      <th>std</th>\n",
              "      <td>23405.995698</td>\n",
              "      <td>0.486714</td>\n",
              "      <td>4.854853</td>\n",
              "      <td>548.021466</td>\n",
              "      <td>2.161418</td>\n",
              "      <td>1.386694</td>\n",
              "      <td>1.811395</td>\n",
              "    </tr>\n",
              "    <tr>\n",
              "      <th>min</th>\n",
              "      <td>579533.000000</td>\n",
              "      <td>0.000000</td>\n",
              "      <td>0.000000</td>\n",
              "      <td>0.000000</td>\n",
              "      <td>0.000000</td>\n",
              "      <td>7.000000</td>\n",
              "      <td>11.000000</td>\n",
              "    </tr>\n",
              "    <tr>\n",
              "      <th>25%</th>\n",
              "      <td>596484.500000</td>\n",
              "      <td>0.000000</td>\n",
              "      <td>1.000000</td>\n",
              "      <td>12.000000</td>\n",
              "      <td>1.000000</td>\n",
              "      <td>14.000000</td>\n",
              "      <td>15.000000</td>\n",
              "    </tr>\n",
              "    <tr>\n",
              "      <th>50%</th>\n",
              "      <td>615479.000000</td>\n",
              "      <td>0.000000</td>\n",
              "      <td>3.000000</td>\n",
              "      <td>248.000000</td>\n",
              "      <td>2.000000</td>\n",
              "      <td>14.000000</td>\n",
              "      <td>16.000000</td>\n",
              "    </tr>\n",
              "    <tr>\n",
              "      <th>75%</th>\n",
              "      <td>637387.250000</td>\n",
              "      <td>1.000000</td>\n",
              "      <td>5.000000</td>\n",
              "      <td>936.000000</td>\n",
              "      <td>3.000000</td>\n",
              "      <td>15.000000</td>\n",
              "      <td>18.000000</td>\n",
              "    </tr>\n",
              "    <tr>\n",
              "      <th>max</th>\n",
              "      <td>660737.000000</td>\n",
              "      <td>1.000000</td>\n",
              "      <td>251.000000</td>\n",
              "      <td>2272.000000</td>\n",
              "      <td>55.000000</td>\n",
              "      <td>18.000000</td>\n",
              "      <td>20.000000</td>\n",
              "    </tr>\n",
              "  </tbody>\n",
              "</table>\n",
              "</div>"
            ],
            "text/plain": [
              "         Lead Number    Converted  TotalVisits  Total Time Spent on Website  \\\n",
              "count    9240.000000  9240.000000  9103.000000                  9240.000000   \n",
              "mean   617188.435606     0.385390     3.445238                   487.698268   \n",
              "std     23405.995698     0.486714     4.854853                   548.021466   \n",
              "min    579533.000000     0.000000     0.000000                     0.000000   \n",
              "25%    596484.500000     0.000000     1.000000                    12.000000   \n",
              "50%    615479.000000     0.000000     3.000000                   248.000000   \n",
              "75%    637387.250000     1.000000     5.000000                   936.000000   \n",
              "max    660737.000000     1.000000   251.000000                  2272.000000   \n",
              "\n",
              "       Page Views Per Visit  Asymmetrique Activity Score  \\\n",
              "count           9103.000000                  5022.000000   \n",
              "mean               2.362820                    14.306252   \n",
              "std                2.161418                     1.386694   \n",
              "min                0.000000                     7.000000   \n",
              "25%                1.000000                    14.000000   \n",
              "50%                2.000000                    14.000000   \n",
              "75%                3.000000                    15.000000   \n",
              "max               55.000000                    18.000000   \n",
              "\n",
              "       Asymmetrique Profile Score  \n",
              "count                 5022.000000  \n",
              "mean                    16.344883  \n",
              "std                      1.811395  \n",
              "min                     11.000000  \n",
              "25%                     15.000000  \n",
              "50%                     16.000000  \n",
              "75%                     18.000000  \n",
              "max                     20.000000  "
            ]
          },
          "execution_count": 4,
          "metadata": {},
          "output_type": "execute_result"
        }
      ],
      "source": [
        "# inspect leadInfo dataframe\n",
        "\n",
        "print(\"*********************************  Info *******************************************\") \n",
        "print(leadInfo.info())\n",
        "print(\"*********************************  Shape ******************************************\") \n",
        "print(leadInfo.shape)\n",
        "print(\"**************************** Columns having null values *****************************\")\n",
        "print(leadInfo.isnull().any())\n",
        "print(\"**************************** Describe *****************************\")\n",
        "leadInfo.describe()"
      ]
    },
    {
      "cell_type": "markdown",
      "metadata": {
        "id": "q7tVManI93V7"
      },
      "source": [
        "## Step 2: Data Cleaning"
      ]
    },
    {
      "cell_type": "code",
      "execution_count": null,
      "metadata": {
        "id": "UmY4ofqb93V8",
        "outputId": "295e662e-ac00-4d2e-c837-02f10d60c987"
      },
      "outputs": [
        {
          "name": "stdout",
          "output_type": "stream",
          "text": [
            "Prospect ID                                       0.00\n",
            "Lead Number                                       0.00\n",
            "Lead Origin                                       0.00\n",
            "Lead Source                                       0.39\n",
            "Do Not Email                                      0.00\n",
            "Do Not Call                                       0.00\n",
            "Converted                                         0.00\n",
            "TotalVisits                                       1.48\n",
            "Total Time Spent on Website                       0.00\n",
            "Page Views Per Visit                              1.48\n",
            "Last Activity                                     1.11\n",
            "Country                                          26.63\n",
            "Specialization                                   15.56\n",
            "How did you hear about X Education               23.89\n",
            "What is your current occupation                  29.11\n",
            "What matters most to you in choosing a course    29.32\n",
            "Search                                            0.00\n",
            "Magazine                                          0.00\n",
            "Newspaper Article                                 0.00\n",
            "X Education Forums                                0.00\n",
            "Newspaper                                         0.00\n",
            "Digital Advertisement                             0.00\n",
            "Through Recommendations                           0.00\n",
            "Receive More Updates About Our Courses            0.00\n",
            "Tags                                             36.29\n",
            "Lead Quality                                     51.59\n",
            "Update me on Supply Chain Content                 0.00\n",
            "Get updates on DM Content                         0.00\n",
            "Lead Profile                                     29.32\n",
            "City                                             15.37\n",
            "Asymmetrique Activity Index                      45.65\n",
            "Asymmetrique Profile Index                       45.65\n",
            "Asymmetrique Activity Score                      45.65\n",
            "Asymmetrique Profile Score                       45.65\n",
            "I agree to pay the amount through cheque          0.00\n",
            "A free copy of Mastering The Interview            0.00\n",
            "Last Notable Activity                             0.00\n",
            "dtype: float64\n"
          ]
        }
      ],
      "source": [
        "# check for percentage of null values in each column\n",
        "\n",
        "percent_missing = round(100*(leadInfo.isnull().sum()/len(leadInfo.index)), 2)\n",
        "print(percent_missing)"
      ]
    },
    {
      "cell_type": "markdown",
      "metadata": {
        "id": "M53mgSwl93V9"
      },
      "source": [
        "There are some columns that have more than 25% null values."
      ]
    },
    {
      "cell_type": "code",
      "execution_count": null,
      "metadata": {
        "id": "oJSeLrfI93V-",
        "outputId": "360c8446-ab4d-438f-9493-ecb674ea2db7"
      },
      "outputs": [
        {
          "data": {
            "text/html": [
              "<div>\n",
              "<style scoped>\n",
              "    .dataframe tbody tr th:only-of-type {\n",
              "        vertical-align: middle;\n",
              "    }\n",
              "\n",
              "    .dataframe tbody tr th {\n",
              "        vertical-align: top;\n",
              "    }\n",
              "\n",
              "    .dataframe thead th {\n",
              "        text-align: right;\n",
              "    }\n",
              "</style>\n",
              "<table border=\"1\" class=\"dataframe\">\n",
              "  <thead>\n",
              "    <tr style=\"text-align: right;\">\n",
              "      <th></th>\n",
              "      <th>Prospect ID</th>\n",
              "      <th>Lead Number</th>\n",
              "      <th>Lead Origin</th>\n",
              "      <th>Lead Source</th>\n",
              "      <th>Do Not Email</th>\n",
              "      <th>Do Not Call</th>\n",
              "      <th>Converted</th>\n",
              "      <th>TotalVisits</th>\n",
              "      <th>Total Time Spent on Website</th>\n",
              "      <th>Page Views Per Visit</th>\n",
              "      <th>...</th>\n",
              "      <th>Get updates on DM Content</th>\n",
              "      <th>Lead Profile</th>\n",
              "      <th>City</th>\n",
              "      <th>Asymmetrique Activity Index</th>\n",
              "      <th>Asymmetrique Profile Index</th>\n",
              "      <th>Asymmetrique Activity Score</th>\n",
              "      <th>Asymmetrique Profile Score</th>\n",
              "      <th>I agree to pay the amount through cheque</th>\n",
              "      <th>A free copy of Mastering The Interview</th>\n",
              "      <th>Last Notable Activity</th>\n",
              "    </tr>\n",
              "  </thead>\n",
              "  <tbody>\n",
              "  </tbody>\n",
              "</table>\n",
              "<p>0 rows × 37 columns</p>\n",
              "</div>"
            ],
            "text/plain": [
              "Empty DataFrame\n",
              "Columns: [Prospect ID, Lead Number, Lead Origin, Lead Source, Do Not Email, Do Not Call, Converted, TotalVisits, Total Time Spent on Website, Page Views Per Visit, Last Activity, Country, Specialization, How did you hear about X Education, What is your current occupation, What matters most to you in choosing a course, Search, Magazine, Newspaper Article, X Education Forums, Newspaper, Digital Advertisement, Through Recommendations, Receive More Updates About Our Courses, Tags, Lead Quality, Update me on Supply Chain Content, Get updates on DM Content, Lead Profile, City, Asymmetrique Activity Index, Asymmetrique Profile Index, Asymmetrique Activity Score, Asymmetrique Profile Score, I agree to pay the amount through cheque, A free copy of Mastering The Interview, Last Notable Activity]\n",
              "Index: []\n",
              "\n",
              "[0 rows x 37 columns]"
            ]
          },
          "execution_count": 6,
          "metadata": {},
          "output_type": "execute_result"
        }
      ],
      "source": [
        "# Check if there are any duplicate values in the dataset\n",
        "\n",
        "leadInfo[leadInfo.duplicated(keep=False)]"
      ]
    },
    {
      "cell_type": "markdown",
      "metadata": {
        "id": "R4xA_htK93V_"
      },
      "source": [
        "There are no duplicate values in the data."
      ]
    },
    {
      "cell_type": "code",
      "execution_count": null,
      "metadata": {
        "id": "S4eEcy_v93WA"
      },
      "outputs": [],
      "source": [
        "# Following columns have a value called select. Convert those values as nan since the customer has not selected any options for \n",
        "# these columns while entering the data.\n",
        "\n",
        "# a) Specialization\n",
        "# b) How did you hear about X Education\n",
        "# c) Lead Profile\n",
        "# d) City\n",
        "\n",
        "# Converting 'Select' values to NaN.\n",
        "\n",
        "leadInfo['Specialization'] = leadInfo['Specialization'].replace('Select', np.nan)\n",
        "leadInfo['How did you hear about X Education'] = leadInfo['How did you hear about X Education'].replace('Select', np.nan)\n",
        "leadInfo['Lead Profile'] = leadInfo['Lead Profile'].replace('Select', np.nan)\n",
        "leadInfo['City'] = leadInfo['City'].replace('Select', np.nan)"
      ]
    },
    {
      "cell_type": "code",
      "execution_count": null,
      "metadata": {
        "id": "T9TwNWMS93WB",
        "outputId": "b08121fa-6447-419f-8c66-5ad343ff2244"
      },
      "outputs": [
        {
          "name": "stdout",
          "output_type": "stream",
          "text": [
            "Prospect ID                                       0.00\n",
            "Lead Number                                       0.00\n",
            "Lead Origin                                       0.00\n",
            "Lead Source                                       0.39\n",
            "Do Not Email                                      0.00\n",
            "Do Not Call                                       0.00\n",
            "Converted                                         0.00\n",
            "TotalVisits                                       1.48\n",
            "Total Time Spent on Website                       0.00\n",
            "Page Views Per Visit                              1.48\n",
            "Last Activity                                     1.11\n",
            "Country                                          26.63\n",
            "Specialization                                   36.58\n",
            "How did you hear about X Education               78.46\n",
            "What is your current occupation                  29.11\n",
            "What matters most to you in choosing a course    29.32\n",
            "Search                                            0.00\n",
            "Magazine                                          0.00\n",
            "Newspaper Article                                 0.00\n",
            "X Education Forums                                0.00\n",
            "Newspaper                                         0.00\n",
            "Digital Advertisement                             0.00\n",
            "Through Recommendations                           0.00\n",
            "Receive More Updates About Our Courses            0.00\n",
            "Tags                                             36.29\n",
            "Lead Quality                                     51.59\n",
            "Update me on Supply Chain Content                 0.00\n",
            "Get updates on DM Content                         0.00\n",
            "Lead Profile                                     74.19\n",
            "City                                             39.71\n",
            "Asymmetrique Activity Index                      45.65\n",
            "Asymmetrique Profile Index                       45.65\n",
            "Asymmetrique Activity Score                      45.65\n",
            "Asymmetrique Profile Score                       45.65\n",
            "I agree to pay the amount through cheque          0.00\n",
            "A free copy of Mastering The Interview            0.00\n",
            "Last Notable Activity                             0.00\n",
            "dtype: float64\n"
          ]
        }
      ],
      "source": [
        "# check for percentage of null values in each column\n",
        "\n",
        "percent_missing = round(100*(leadInfo.isnull().sum()/len(leadInfo.index)), 2)\n",
        "print(percent_missing)"
      ]
    },
    {
      "cell_type": "code",
      "execution_count": null,
      "metadata": {
        "id": "NtKy0BTH93WC"
      },
      "outputs": [],
      "source": [
        "# Let us drop the following columns that have more than 30% null values\n",
        "\n",
        "# a) Specialization\n",
        "# b) How did you hear about X Education\n",
        "# c) Tags\n",
        "# d) Lead Quality\n",
        "# e) Lead Profile\n",
        "# f) City\n",
        "# g) Asymmetrique Activity Index\n",
        "# h) Asymmetrique Profile Index\n",
        "# i) Asymmetrique Activity Score\n",
        "# j) Asymmetrique Profile Score\n",
        "\n",
        "leadInfo = leadInfo.drop(['Specialization', 'How did you hear about X Education', 'Tags', 'Lead Quality',\n",
        "                          'Lead Profile','City', 'Asymmetrique Activity Index', 'Asymmetrique Profile Index',\n",
        "                          'Asymmetrique Activity Score', 'Asymmetrique Profile Score'], axis=1)"
      ]
    },
    {
      "cell_type": "code",
      "execution_count": null,
      "metadata": {
        "id": "BmqckGTb93WD",
        "outputId": "fd3428c6-2d01-4087-ff1d-5f45c698e540"
      },
      "outputs": [
        {
          "name": "stdout",
          "output_type": "stream",
          "text": [
            "Prospect ID                                       0.00\n",
            "Lead Number                                       0.00\n",
            "Lead Origin                                       0.00\n",
            "Lead Source                                       0.39\n",
            "Do Not Email                                      0.00\n",
            "Do Not Call                                       0.00\n",
            "Converted                                         0.00\n",
            "TotalVisits                                       1.48\n",
            "Total Time Spent on Website                       0.00\n",
            "Page Views Per Visit                              1.48\n",
            "Last Activity                                     1.11\n",
            "Country                                          26.63\n",
            "What is your current occupation                  29.11\n",
            "What matters most to you in choosing a course    29.32\n",
            "Search                                            0.00\n",
            "Magazine                                          0.00\n",
            "Newspaper Article                                 0.00\n",
            "X Education Forums                                0.00\n",
            "Newspaper                                         0.00\n",
            "Digital Advertisement                             0.00\n",
            "Through Recommendations                           0.00\n",
            "Receive More Updates About Our Courses            0.00\n",
            "Update me on Supply Chain Content                 0.00\n",
            "Get updates on DM Content                         0.00\n",
            "I agree to pay the amount through cheque          0.00\n",
            "A free copy of Mastering The Interview            0.00\n",
            "Last Notable Activity                             0.00\n",
            "dtype: float64\n"
          ]
        }
      ],
      "source": [
        "# check for percentage of null values in each column after dropping columns having more than 30% null values\n",
        "\n",
        "percent_missing = round(100*(leadInfo.isnull().sum()/len(leadInfo.index)), 2)\n",
        "print(percent_missing)"
      ]
    },
    {
      "cell_type": "markdown",
      "metadata": {
        "id": "I5LbD5Zw93WD"
      },
      "source": [
        "Following columns have null values :\n",
        "    - Country\n",
        "    - Lead Source\n",
        "    - Total Visits\n",
        "    - Page Views Per Visit\n",
        "    - Last Activity    \n",
        "    - What is your current occupation\n",
        "    - What matters most to you in choosing a course\n",
        "    \n",
        "Let us see and decide whather we need to impute values in the above column or drop the columns."
      ]
    },
    {
      "cell_type": "code",
      "execution_count": null,
      "metadata": {
        "id": "LIoEhfRT93WE",
        "outputId": "e8a798b6-f2ab-4584-991d-b39f66261836"
      },
      "outputs": [
        {
          "data": {
            "text/plain": [
              "India                   6492\n",
              "United States             69\n",
              "United Arab Emirates      53\n",
              "Singapore                 24\n",
              "Saudi Arabia              21\n",
              "United Kingdom            15\n",
              "Australia                 13\n",
              "Qatar                     10\n",
              "Hong Kong                  7\n",
              "Bahrain                    7\n",
              "France                     6\n",
              "Oman                       6\n",
              "unknown                    5\n",
              "Kuwait                     4\n",
              "South Africa               4\n",
              "Germany                    4\n",
              "Nigeria                    4\n",
              "Canada                     4\n",
              "Sweden                     3\n",
              "Belgium                    2\n",
              "Asia/Pacific Region        2\n",
              "Netherlands                2\n",
              "China                      2\n",
              "Bangladesh                 2\n",
              "Philippines                2\n",
              "Uganda                     2\n",
              "Ghana                      2\n",
              "Italy                      2\n",
              "Vietnam                    1\n",
              "Kenya                      1\n",
              "Sri Lanka                  1\n",
              "Tanzania                   1\n",
              "Liberia                    1\n",
              "Russia                     1\n",
              "Indonesia                  1\n",
              "Switzerland                1\n",
              "Denmark                    1\n",
              "Malaysia                   1\n",
              "Name: Country, dtype: int64"
            ]
          },
          "execution_count": 11,
          "metadata": {},
          "output_type": "execute_result"
        }
      ],
      "source": [
        "# Lets check the value counts for each values in the country column\n",
        "\n",
        "leadInfo.Country.value_counts()"
      ]
    },
    {
      "cell_type": "code",
      "execution_count": null,
      "metadata": {
        "id": "Y2pvHme893WF",
        "outputId": "dfbcaa4a-9934-451e-a99d-25de5b2080e2"
      },
      "outputs": [
        {
          "name": "stdout",
          "output_type": "stream",
          "text": [
            "70.26\n"
          ]
        }
      ],
      "source": [
        "# check the percentage of India as value in the country column\n",
        "\n",
        "country_percentage = round(100*len(leadInfo[leadInfo['Country'] == 'India'])/len(leadInfo['Country']),2)\n",
        "print(country_percentage)"
      ]
    },
    {
      "cell_type": "code",
      "execution_count": null,
      "metadata": {
        "id": "j-0tRW8j93WF"
      },
      "outputs": [],
      "source": [
        "# Since \"India\" occurs around 70% of times in the Country column, and country column also has around 27% as missing values, \n",
        "# we shall go ahead and drop the column\n",
        "\n",
        "leadInfo = leadInfo.drop(['Country'], axis=1)"
      ]
    },
    {
      "cell_type": "code",
      "execution_count": null,
      "metadata": {
        "id": "CqTneQEp93WG",
        "outputId": "b13b37df-24f7-4fc6-abe0-d5dcf3d8b420"
      },
      "outputs": [
        {
          "data": {
            "text/plain": [
              "Google               2868\n",
              "Direct Traffic       2543\n",
              "Olark Chat           1755\n",
              "Organic Search       1154\n",
              "Reference             534\n",
              "Welingak Website      142\n",
              "Referral Sites        125\n",
              "Facebook               55\n",
              "bing                    6\n",
              "google                  5\n",
              "Click2call              4\n",
              "Live Chat               2\n",
              "Press_Release           2\n",
              "Social Media            2\n",
              "testone                 1\n",
              "welearnblog_Home        1\n",
              "WeLearn                 1\n",
              "blog                    1\n",
              "NC_EDM                  1\n",
              "youtubechannel          1\n",
              "Pay per Click Ads       1\n",
              "Name: Lead Source, dtype: int64"
            ]
          },
          "execution_count": 14,
          "metadata": {},
          "output_type": "execute_result"
        }
      ],
      "source": [
        "# Check the value counts for the column Lead Source\n",
        "\n",
        "leadInfo['Lead Source'].value_counts()"
      ]
    },
    {
      "cell_type": "code",
      "execution_count": null,
      "metadata": {
        "id": "APXs72bo93WH"
      },
      "outputs": [],
      "source": [
        "# From the above it can be noticed that Google appears twice with different cases. Hence we shall convert all rows with value \n",
        "# \"Google\" to the same case.\n",
        "# Also since \"Google\" has the major chunk of data, we can impute the null values with Google\n",
        "\n",
        "leadInfo['Lead Source'] = leadInfo['Lead Source'].replace('google', 'Google')\n",
        "leadInfo['Lead Source'] = leadInfo['Lead Source'].replace(np.nan, 'Google')"
      ]
    },
    {
      "cell_type": "code",
      "execution_count": null,
      "metadata": {
        "id": "qI2jXw4X93WH",
        "outputId": "6f358220-d699-46d9-fd3c-4cafcc6e7091"
      },
      "outputs": [
        {
          "data": {
            "text/plain": [
              "0.0      2189\n",
              "2.0      1680\n",
              "3.0      1306\n",
              "4.0      1120\n",
              "5.0       783\n",
              "6.0       466\n",
              "1.0       395\n",
              "7.0       309\n",
              "8.0       224\n",
              "9.0       164\n",
              "10.0      114\n",
              "11.0       86\n",
              "13.0       48\n",
              "12.0       45\n",
              "14.0       36\n",
              "16.0       21\n",
              "15.0       18\n",
              "17.0       16\n",
              "18.0       15\n",
              "20.0       12\n",
              "19.0        9\n",
              "23.0        6\n",
              "21.0        6\n",
              "27.0        5\n",
              "24.0        5\n",
              "25.0        5\n",
              "22.0        3\n",
              "28.0        2\n",
              "29.0        2\n",
              "26.0        2\n",
              "251.0       1\n",
              "74.0        1\n",
              "30.0        1\n",
              "141.0       1\n",
              "54.0        1\n",
              "41.0        1\n",
              "115.0       1\n",
              "43.0        1\n",
              "42.0        1\n",
              "32.0        1\n",
              "55.0        1\n",
              "Name: TotalVisits, dtype: int64"
            ]
          },
          "execution_count": 16,
          "metadata": {},
          "output_type": "execute_result"
        }
      ],
      "source": [
        "# Check the value counts for the column Total Visits\n",
        "\n",
        "leadInfo['TotalVisits'].value_counts()"
      ]
    },
    {
      "cell_type": "code",
      "execution_count": null,
      "metadata": {
        "id": "VAG815kK93WI",
        "outputId": "ef622bef-8152-49ac-982f-3f84f75a40b3"
      },
      "outputs": [
        {
          "data": {
            "text/plain": [
              "3.0"
            ]
          },
          "execution_count": 17,
          "metadata": {},
          "output_type": "execute_result"
        }
      ],
      "source": [
        "# Check the median of column \n",
        "\n",
        "leadInfo['TotalVisits'].median()"
      ]
    },
    {
      "cell_type": "code",
      "execution_count": null,
      "metadata": {
        "id": "iPzi1uOj93WI"
      },
      "outputs": [],
      "source": [
        "# We shall impute the null values in TotalVisits by the median value which is 3.0\n",
        "\n",
        "leadInfo['TotalVisits'] = leadInfo['TotalVisits'].replace(np.nan, leadInfo['TotalVisits'].median())"
      ]
    },
    {
      "cell_type": "code",
      "execution_count": null,
      "metadata": {
        "id": "HQmBALzu93WJ",
        "outputId": "08689d18-ef72-46be-fcf2-3fbd6ab518d1"
      },
      "outputs": [
        {
          "data": {
            "text/plain": [
              "0.00     2189\n",
              "2.00     1795\n",
              "3.00     1196\n",
              "4.00      896\n",
              "1.00      651\n",
              "5.00      517\n",
              "1.50      306\n",
              "6.00      244\n",
              "2.50      241\n",
              "7.00      133\n",
              "3.50       94\n",
              "8.00       86\n",
              "1.33       66\n",
              "1.67       60\n",
              "2.33       59\n",
              "2.67       54\n",
              "9.00       45\n",
              "4.50       43\n",
              "1.75       28\n",
              "3.33       27\n",
              "10.00      25\n",
              "1.25       23\n",
              "5.50       21\n",
              "2.25       19\n",
              "11.00      18\n",
              "3.67       16\n",
              "6.50       13\n",
              "1.80       13\n",
              "2.75       12\n",
              "1.40       11\n",
              "         ... \n",
              "1.19        1\n",
              "3.91        1\n",
              "55.00       1\n",
              "3.17        1\n",
              "2.57        1\n",
              "12.33       1\n",
              "2.08        1\n",
              "3.38        1\n",
              "2.90        1\n",
              "1.48        1\n",
              "2.38        1\n",
              "14.50       1\n",
              "11.50       1\n",
              "8.50        1\n",
              "1.45        1\n",
              "1.31        1\n",
              "3.43        1\n",
              "3.83        1\n",
              "1.54        1\n",
              "2.86        1\n",
              "1.64        1\n",
              "3.29        1\n",
              "8.33        1\n",
              "6.67        1\n",
              "1.21        1\n",
              "1.27        1\n",
              "8.21        1\n",
              "2.14        1\n",
              "2.63        1\n",
              "2.45        1\n",
              "Name: Page Views Per Visit, Length: 114, dtype: int64"
            ]
          },
          "execution_count": 19,
          "metadata": {},
          "output_type": "execute_result"
        }
      ],
      "source": [
        "# Check the value counts for Page Views Per Visit\n",
        "\n",
        "leadInfo['Page Views Per Visit'].value_counts()"
      ]
    },
    {
      "cell_type": "code",
      "execution_count": null,
      "metadata": {
        "id": "_AC2sI7q93WJ",
        "outputId": "d66bf1f1-24b9-4c9a-879e-be6047e341c5"
      },
      "outputs": [
        {
          "data": {
            "text/plain": [
              "2.0"
            ]
          },
          "execution_count": 20,
          "metadata": {},
          "output_type": "execute_result"
        }
      ],
      "source": [
        "# Check the median of the column\n",
        "\n",
        "leadInfo['Page Views Per Visit'].median()"
      ]
    },
    {
      "cell_type": "code",
      "execution_count": null,
      "metadata": {
        "id": "p4LcOe0K93WK"
      },
      "outputs": [],
      "source": [
        "# We shall impute the null values in 'Page Views Per Visit' by the median value which is 2.0\n",
        "\n",
        "leadInfo['Page Views Per Visit'] = leadInfo['Page Views Per Visit'].replace(np.nan, leadInfo['Page Views Per Visit'].median())"
      ]
    },
    {
      "cell_type": "code",
      "execution_count": null,
      "metadata": {
        "id": "Phw5bOQa93WK",
        "outputId": "e22bf7fd-db70-4e5b-c2a3-ce80365c3d76"
      },
      "outputs": [
        {
          "data": {
            "text/plain": [
              "Email Opened                    3437\n",
              "SMS Sent                        2745\n",
              "Olark Chat Conversation          973\n",
              "Page Visited on Website          640\n",
              "Converted to Lead                428\n",
              "Email Bounced                    326\n",
              "Email Link Clicked               267\n",
              "Form Submitted on Website        116\n",
              "Unreachable                       93\n",
              "Unsubscribed                      61\n",
              "Had a Phone Conversation          30\n",
              "Approached upfront                 9\n",
              "View in browser link Clicked       6\n",
              "Email Received                     2\n",
              "Email Marked Spam                  2\n",
              "Visited Booth in Tradeshow         1\n",
              "Resubscribed to emails             1\n",
              "Name: Last Activity, dtype: int64"
            ]
          },
          "execution_count": 22,
          "metadata": {},
          "output_type": "execute_result"
        }
      ],
      "source": [
        "# Check the value counts for the column Last Activity\n",
        "\n",
        "leadInfo['Last Activity'].value_counts()"
      ]
    },
    {
      "cell_type": "code",
      "execution_count": null,
      "metadata": {
        "id": "oNF3_4B893WL"
      },
      "outputs": [],
      "source": [
        "# Since we do not have any information of what the last activity of the customer would have been, we can add a new category \n",
        "# called 'Not Sure' for the null values\n",
        "\n",
        "leadInfo['Last Activity'] = leadInfo['Last Activity'].replace(np.nan, 'Not Sure')"
      ]
    },
    {
      "cell_type": "code",
      "execution_count": null,
      "metadata": {
        "id": "PPujdY5Y93WL",
        "outputId": "bc07d1e7-717b-4fa4-e134-9002121f3818"
      },
      "outputs": [
        {
          "data": {
            "text/plain": [
              "Unemployed              5600\n",
              "Working Professional     706\n",
              "Student                  210\n",
              "Other                     16\n",
              "Housewife                 10\n",
              "Businessman                8\n",
              "Name: What is your current occupation, dtype: int64"
            ]
          },
          "execution_count": 24,
          "metadata": {},
          "output_type": "execute_result"
        }
      ],
      "source": [
        "# Check the value counts for the column \"What is your current Occupation\"\n",
        "\n",
        "leadInfo['What is your current occupation'].value_counts()"
      ]
    },
    {
      "cell_type": "code",
      "execution_count": null,
      "metadata": {
        "id": "OQDDKIaS93WL"
      },
      "outputs": [],
      "source": [
        "# Since no information has been provided Current Occupation, we can add a new category called No Information and set that \n",
        "# as value for the null columns\n",
        "\n",
        "leadInfo['What is your current occupation'] = leadInfo['What is your current occupation'].replace(np.nan, 'No Information')"
      ]
    },
    {
      "cell_type": "code",
      "execution_count": null,
      "metadata": {
        "id": "jKfhHwj593WM",
        "outputId": "a3e889fb-3699-49a4-b063-b3a12169a088"
      },
      "outputs": [
        {
          "data": {
            "text/plain": [
              "Better Career Prospects      6528\n",
              "Flexibility & Convenience       2\n",
              "Other                           1\n",
              "Name: What matters most to you in choosing a course, dtype: int64"
            ]
          },
          "execution_count": 26,
          "metadata": {},
          "output_type": "execute_result"
        }
      ],
      "source": [
        "# Check the value counts for the column What matters most to you in choosing a course \n",
        "\n",
        "leadInfo['What matters most to you in choosing a course'].value_counts()"
      ]
    },
    {
      "cell_type": "code",
      "execution_count": null,
      "metadata": {
        "id": "0goMnLZJ93WM",
        "outputId": "821b5009-37ad-4305-d9c4-b3f375b0d07f"
      },
      "outputs": [
        {
          "name": "stdout",
          "output_type": "stream",
          "text": [
            "70.65\n"
          ]
        }
      ],
      "source": [
        "matters_most_percentage = round(100*len(leadInfo[leadInfo['What matters most to you in choosing a course'] \n",
        "                            == 'Better Career Prospects'])/len(leadInfo['What matters most to you in choosing a course']),2)\n",
        "print(matters_most_percentage)"
      ]
    },
    {
      "cell_type": "code",
      "execution_count": null,
      "metadata": {
        "id": "VBliNl4B93WM"
      },
      "outputs": [],
      "source": [
        "# Since Better Career Prospects occurs around 70% of times in the What matters most to you in choosing a course column, and\n",
        "# since the column also has around 29% as missing values, we shall go ahead and drop the column\n",
        "\n",
        "leadInfo = leadInfo.drop(['What matters most to you in choosing a course'], axis=1)"
      ]
    },
    {
      "cell_type": "code",
      "execution_count": null,
      "metadata": {
        "id": "xCizBaEu93WN",
        "outputId": "ce33bbab-b605-40e0-82c3-98f01a04a71e"
      },
      "outputs": [
        {
          "name": "stdout",
          "output_type": "stream",
          "text": [
            "Prospect ID                                 0.0\n",
            "Lead Number                                 0.0\n",
            "Lead Origin                                 0.0\n",
            "Lead Source                                 0.0\n",
            "Do Not Email                                0.0\n",
            "Do Not Call                                 0.0\n",
            "Converted                                   0.0\n",
            "TotalVisits                                 0.0\n",
            "Total Time Spent on Website                 0.0\n",
            "Page Views Per Visit                        0.0\n",
            "Last Activity                               0.0\n",
            "What is your current occupation             0.0\n",
            "Search                                      0.0\n",
            "Magazine                                    0.0\n",
            "Newspaper Article                           0.0\n",
            "X Education Forums                          0.0\n",
            "Newspaper                                   0.0\n",
            "Digital Advertisement                       0.0\n",
            "Through Recommendations                     0.0\n",
            "Receive More Updates About Our Courses      0.0\n",
            "Update me on Supply Chain Content           0.0\n",
            "Get updates on DM Content                   0.0\n",
            "I agree to pay the amount through cheque    0.0\n",
            "A free copy of Mastering The Interview      0.0\n",
            "Last Notable Activity                       0.0\n",
            "dtype: float64\n"
          ]
        }
      ],
      "source": [
        "# check for percentage of null values in each column\n",
        "\n",
        "percent_missing = round(100*(leadInfo.isnull().sum()/len(leadInfo.index)), 2)\n",
        "print(percent_missing)"
      ]
    },
    {
      "cell_type": "markdown",
      "metadata": {
        "id": "yEfyzjTk93WN"
      },
      "source": [
        "All the null values in the columns now have either been imputed or we have dropped the columns which have more than 70% data \n",
        "concentrated towards one value"
      ]
    },
    {
      "cell_type": "code",
      "execution_count": null,
      "metadata": {
        "id": "q-hVSZVF93WO"
      },
      "outputs": [],
      "source": [
        "# Since the following columns have only one value \"No\" in all the rows, we can eliminate the columns :\n",
        "\n",
        "# a) Magazine\n",
        "# b) Receive More Updates About Our Courses\n",
        "# c) Update me on Supply Chain Content\n",
        "# d) Get updates on DM Content\n",
        "# e) I agree to pay the amount through cheque\n",
        "\n",
        "leadInfo = leadInfo.drop(['Magazine', 'Receive More Updates About Our Courses', 'Update me on Supply Chain Content', \n",
        "                          'Get updates on DM Content', 'I agree to pay the amount through cheque'], axis=1)"
      ]
    },
    {
      "cell_type": "code",
      "execution_count": null,
      "metadata": {
        "id": "tTBcqeGM93WO",
        "outputId": "788e483a-ab10-4629-e048-4e4049f16198"
      },
      "outputs": [
        {
          "data": {
            "text/plain": [
              "(9240, 20)"
            ]
          },
          "execution_count": 31,
          "metadata": {},
          "output_type": "execute_result"
        }
      ],
      "source": [
        "leadInfo.shape"
      ]
    },
    {
      "cell_type": "markdown",
      "metadata": {
        "id": "HN1Eofp993WQ"
      },
      "source": [
        "##### Outlier Treatment"
      ]
    },
    {
      "cell_type": "code",
      "execution_count": null,
      "metadata": {
        "id": "T5QeiqWa93WQ",
        "outputId": "32d007a7-971e-4d5f-91f3-78a789d8c688"
      },
      "outputs": [
        {
          "data": {
            "text/html": [
              "<div>\n",
              "<style scoped>\n",
              "    .dataframe tbody tr th:only-of-type {\n",
              "        vertical-align: middle;\n",
              "    }\n",
              "\n",
              "    .dataframe tbody tr th {\n",
              "        vertical-align: top;\n",
              "    }\n",
              "\n",
              "    .dataframe thead th {\n",
              "        text-align: right;\n",
              "    }\n",
              "</style>\n",
              "<table border=\"1\" class=\"dataframe\">\n",
              "  <thead>\n",
              "    <tr style=\"text-align: right;\">\n",
              "      <th></th>\n",
              "      <th>Lead Number</th>\n",
              "      <th>Converted</th>\n",
              "      <th>TotalVisits</th>\n",
              "      <th>Total Time Spent on Website</th>\n",
              "      <th>Page Views Per Visit</th>\n",
              "    </tr>\n",
              "  </thead>\n",
              "  <tbody>\n",
              "    <tr>\n",
              "      <th>count</th>\n",
              "      <td>9240.000000</td>\n",
              "      <td>9240.000000</td>\n",
              "      <td>9240.000000</td>\n",
              "      <td>9240.000000</td>\n",
              "      <td>9240.000000</td>\n",
              "    </tr>\n",
              "    <tr>\n",
              "      <th>mean</th>\n",
              "      <td>617188.435606</td>\n",
              "      <td>0.385390</td>\n",
              "      <td>3.438636</td>\n",
              "      <td>487.698268</td>\n",
              "      <td>2.357440</td>\n",
              "    </tr>\n",
              "    <tr>\n",
              "      <th>std</th>\n",
              "      <td>23405.995698</td>\n",
              "      <td>0.486714</td>\n",
              "      <td>4.819024</td>\n",
              "      <td>548.021466</td>\n",
              "      <td>2.145781</td>\n",
              "    </tr>\n",
              "    <tr>\n",
              "      <th>min</th>\n",
              "      <td>579533.000000</td>\n",
              "      <td>0.000000</td>\n",
              "      <td>0.000000</td>\n",
              "      <td>0.000000</td>\n",
              "      <td>0.000000</td>\n",
              "    </tr>\n",
              "    <tr>\n",
              "      <th>25%</th>\n",
              "      <td>596484.500000</td>\n",
              "      <td>0.000000</td>\n",
              "      <td>1.000000</td>\n",
              "      <td>12.000000</td>\n",
              "      <td>1.000000</td>\n",
              "    </tr>\n",
              "    <tr>\n",
              "      <th>50%</th>\n",
              "      <td>615479.000000</td>\n",
              "      <td>0.000000</td>\n",
              "      <td>3.000000</td>\n",
              "      <td>248.000000</td>\n",
              "      <td>2.000000</td>\n",
              "    </tr>\n",
              "    <tr>\n",
              "      <th>75%</th>\n",
              "      <td>637387.250000</td>\n",
              "      <td>1.000000</td>\n",
              "      <td>5.000000</td>\n",
              "      <td>936.000000</td>\n",
              "      <td>3.000000</td>\n",
              "    </tr>\n",
              "    <tr>\n",
              "      <th>90%</th>\n",
              "      <td>650506.100000</td>\n",
              "      <td>1.000000</td>\n",
              "      <td>7.000000</td>\n",
              "      <td>1380.000000</td>\n",
              "      <td>5.000000</td>\n",
              "    </tr>\n",
              "    <tr>\n",
              "      <th>95%</th>\n",
              "      <td>655404.050000</td>\n",
              "      <td>1.000000</td>\n",
              "      <td>10.000000</td>\n",
              "      <td>1562.000000</td>\n",
              "      <td>6.000000</td>\n",
              "    </tr>\n",
              "    <tr>\n",
              "      <th>99%</th>\n",
              "      <td>659592.980000</td>\n",
              "      <td>1.000000</td>\n",
              "      <td>17.000000</td>\n",
              "      <td>1840.610000</td>\n",
              "      <td>9.000000</td>\n",
              "    </tr>\n",
              "    <tr>\n",
              "      <th>max</th>\n",
              "      <td>660737.000000</td>\n",
              "      <td>1.000000</td>\n",
              "      <td>251.000000</td>\n",
              "      <td>2272.000000</td>\n",
              "      <td>55.000000</td>\n",
              "    </tr>\n",
              "  </tbody>\n",
              "</table>\n",
              "</div>"
            ],
            "text/plain": [
              "         Lead Number    Converted  TotalVisits  Total Time Spent on Website  \\\n",
              "count    9240.000000  9240.000000  9240.000000                  9240.000000   \n",
              "mean   617188.435606     0.385390     3.438636                   487.698268   \n",
              "std     23405.995698     0.486714     4.819024                   548.021466   \n",
              "min    579533.000000     0.000000     0.000000                     0.000000   \n",
              "25%    596484.500000     0.000000     1.000000                    12.000000   \n",
              "50%    615479.000000     0.000000     3.000000                   248.000000   \n",
              "75%    637387.250000     1.000000     5.000000                   936.000000   \n",
              "90%    650506.100000     1.000000     7.000000                  1380.000000   \n",
              "95%    655404.050000     1.000000    10.000000                  1562.000000   \n",
              "99%    659592.980000     1.000000    17.000000                  1840.610000   \n",
              "max    660737.000000     1.000000   251.000000                  2272.000000   \n",
              "\n",
              "       Page Views Per Visit  \n",
              "count           9240.000000  \n",
              "mean               2.357440  \n",
              "std                2.145781  \n",
              "min                0.000000  \n",
              "25%                1.000000  \n",
              "50%                2.000000  \n",
              "75%                3.000000  \n",
              "90%                5.000000  \n",
              "95%                6.000000  \n",
              "99%                9.000000  \n",
              "max               55.000000  "
            ]
          },
          "execution_count": 32,
          "metadata": {},
          "output_type": "execute_result"
        }
      ],
      "source": [
        "# Checking outliers at 25%,50%,75%,90%,95% and above\n",
        "leadInfo.describe(percentiles=[.25,.5,.75,.90,.95,.99])"
      ]
    },
    {
      "cell_type": "markdown",
      "metadata": {
        "id": "BxTwcaPu93WR"
      },
      "source": [
        "From the above, it can be seen that outlier exists in the columns TotalVisits and Page Views Per Visit columns."
      ]
    },
    {
      "cell_type": "code",
      "execution_count": null,
      "metadata": {
        "id": "y1CcDboF93WR",
        "outputId": "08e258e6-87af-4b4a-ffc7-8d9ffcfbec26"
      },
      "outputs": [
        {
          "data": {
            "image/png": "[encoded data removed]",
            "text/plain": [
              "<Figure size 1440x1800 with 3 Axes>"
            ]
          },
          "metadata": {
            "needs_background": "light"
          },
          "output_type": "display_data"
        }
      ],
      "source": [
        "# Check the outliers in all the numeric columns\n",
        "\n",
        "plt.figure(figsize=(20, 25))\n",
        "plt.subplot(4,3,1)\n",
        "sns.boxplot(y = 'TotalVisits', palette='Set3', data = leadInfo)\n",
        "plt.subplot(4,3,2)\n",
        "sns.boxplot(y = 'Total Time Spent on Website', palette='Set3', data = leadInfo)\n",
        "plt.subplot(4,3,3)\n",
        "sns.boxplot(y = 'Page Views Per Visit', palette='Set3', data = leadInfo)\n",
        "plt.show()"
      ]
    },
    {
      "cell_type": "code",
      "execution_count": null,
      "metadata": {
        "id": "yooEe-sq93WR",
        "outputId": "5c708346-128a-48ce-e8e0-783e8e68e8c5"
      },
      "outputs": [
        {
          "data": {
            "text/plain": [
              "count    9141.000000\n",
              "mean        3.179740\n",
              "std         2.913631\n",
              "min         0.000000\n",
              "25%         1.000000\n",
              "50%         3.000000\n",
              "75%         5.000000\n",
              "90%         7.000000\n",
              "95%         9.000000\n",
              "99%        13.000000\n",
              "max        16.000000\n",
              "Name: TotalVisits, dtype: float64"
            ]
          },
          "execution_count": 34,
          "metadata": {},
          "output_type": "execute_result"
        }
      ],
      "source": [
        "# Removing values beyond 99% for Total Visits\n",
        "\n",
        "nn_quartile_total_visits = leadInfo['TotalVisits'].quantile(0.99)\n",
        "leadInfo = leadInfo[leadInfo[\"TotalVisits\"] < nn_quartile_total_visits]\n",
        "leadInfo[\"TotalVisits\"].describe(percentiles=[.25,.5,.75,.90,.95,.99])"
      ]
    },
    {
      "cell_type": "code",
      "execution_count": null,
      "metadata": {
        "id": "c6dOMOtG93WS",
        "outputId": "3de60f94-d6c0-42d9-b6d8-71e8c23a3c3e"
      },
      "outputs": [
        {
          "data": {
            "text/html": [
              "<div>\n",
              "<style scoped>\n",
              "    .dataframe tbody tr th:only-of-type {\n",
              "        vertical-align: middle;\n",
              "    }\n",
              "\n",
              "    .dataframe tbody tr th {\n",
              "        vertical-align: top;\n",
              "    }\n",
              "\n",
              "    .dataframe thead th {\n",
              "        text-align: right;\n",
              "    }\n",
              "</style>\n",
              "<table border=\"1\" class=\"dataframe\">\n",
              "  <thead>\n",
              "    <tr style=\"text-align: right;\">\n",
              "      <th></th>\n",
              "      <th>Lead Number</th>\n",
              "      <th>Converted</th>\n",
              "      <th>TotalVisits</th>\n",
              "      <th>Total Time Spent on Website</th>\n",
              "      <th>Page Views Per Visit</th>\n",
              "    </tr>\n",
              "  </thead>\n",
              "  <tbody>\n",
              "    <tr>\n",
              "      <th>count</th>\n",
              "      <td>9141.00000</td>\n",
              "      <td>9141.000000</td>\n",
              "      <td>9141.000000</td>\n",
              "      <td>9141.000000</td>\n",
              "      <td>9141.000000</td>\n",
              "    </tr>\n",
              "    <tr>\n",
              "      <th>mean</th>\n",
              "      <td>617233.45192</td>\n",
              "      <td>0.385406</td>\n",
              "      <td>3.179740</td>\n",
              "      <td>486.074609</td>\n",
              "      <td>2.329506</td>\n",
              "    </tr>\n",
              "    <tr>\n",
              "      <th>std</th>\n",
              "      <td>23413.72193</td>\n",
              "      <td>0.486718</td>\n",
              "      <td>2.913631</td>\n",
              "      <td>547.856302</td>\n",
              "      <td>2.046673</td>\n",
              "    </tr>\n",
              "    <tr>\n",
              "      <th>min</th>\n",
              "      <td>579533.00000</td>\n",
              "      <td>0.000000</td>\n",
              "      <td>0.000000</td>\n",
              "      <td>0.000000</td>\n",
              "      <td>0.000000</td>\n",
              "    </tr>\n",
              "    <tr>\n",
              "      <th>25%</th>\n",
              "      <td>596519.00000</td>\n",
              "      <td>0.000000</td>\n",
              "      <td>1.000000</td>\n",
              "      <td>10.000000</td>\n",
              "      <td>1.000000</td>\n",
              "    </tr>\n",
              "    <tr>\n",
              "      <th>50%</th>\n",
              "      <td>615563.00000</td>\n",
              "      <td>0.000000</td>\n",
              "      <td>3.000000</td>\n",
              "      <td>247.000000</td>\n",
              "      <td>2.000000</td>\n",
              "    </tr>\n",
              "    <tr>\n",
              "      <th>75%</th>\n",
              "      <td>637414.00000</td>\n",
              "      <td>1.000000</td>\n",
              "      <td>5.000000</td>\n",
              "      <td>933.000000</td>\n",
              "      <td>3.000000</td>\n",
              "    </tr>\n",
              "    <tr>\n",
              "      <th>90%</th>\n",
              "      <td>650514.00000</td>\n",
              "      <td>1.000000</td>\n",
              "      <td>7.000000</td>\n",
              "      <td>1379.000000</td>\n",
              "      <td>5.000000</td>\n",
              "    </tr>\n",
              "    <tr>\n",
              "      <th>95%</th>\n",
              "      <td>655406.00000</td>\n",
              "      <td>1.000000</td>\n",
              "      <td>9.000000</td>\n",
              "      <td>1561.000000</td>\n",
              "      <td>6.000000</td>\n",
              "    </tr>\n",
              "    <tr>\n",
              "      <th>99%</th>\n",
              "      <td>659592.80000</td>\n",
              "      <td>1.000000</td>\n",
              "      <td>13.000000</td>\n",
              "      <td>1839.600000</td>\n",
              "      <td>9.000000</td>\n",
              "    </tr>\n",
              "    <tr>\n",
              "      <th>max</th>\n",
              "      <td>660737.00000</td>\n",
              "      <td>1.000000</td>\n",
              "      <td>16.000000</td>\n",
              "      <td>2272.000000</td>\n",
              "      <td>16.000000</td>\n",
              "    </tr>\n",
              "  </tbody>\n",
              "</table>\n",
              "</div>"
            ],
            "text/plain": [
              "        Lead Number    Converted  TotalVisits  Total Time Spent on Website  \\\n",
              "count    9141.00000  9141.000000  9141.000000                  9141.000000   \n",
              "mean   617233.45192     0.385406     3.179740                   486.074609   \n",
              "std     23413.72193     0.486718     2.913631                   547.856302   \n",
              "min    579533.00000     0.000000     0.000000                     0.000000   \n",
              "25%    596519.00000     0.000000     1.000000                    10.000000   \n",
              "50%    615563.00000     0.000000     3.000000                   247.000000   \n",
              "75%    637414.00000     1.000000     5.000000                   933.000000   \n",
              "90%    650514.00000     1.000000     7.000000                  1379.000000   \n",
              "95%    655406.00000     1.000000     9.000000                  1561.000000   \n",
              "99%    659592.80000     1.000000    13.000000                  1839.600000   \n",
              "max    660737.00000     1.000000    16.000000                  2272.000000   \n",
              "\n",
              "       Page Views Per Visit  \n",
              "count           9141.000000  \n",
              "mean               2.329506  \n",
              "std                2.046673  \n",
              "min                0.000000  \n",
              "25%                1.000000  \n",
              "50%                2.000000  \n",
              "75%                3.000000  \n",
              "90%                5.000000  \n",
              "95%                6.000000  \n",
              "99%                9.000000  \n",
              "max               16.000000  "
            ]
          },
          "execution_count": 35,
          "metadata": {},
          "output_type": "execute_result"
        }
      ],
      "source": [
        "# Checking outliers at 25%,50%,75%,90%,95% and above\n",
        "\n",
        "leadInfo.describe(percentiles=[.25,.5,.75,.90,.95,.99])"
      ]
    },
    {
      "cell_type": "code",
      "execution_count": null,
      "metadata": {
        "id": "MykTc7s193WS",
        "outputId": "49e59251-3799-4e6e-e6d3-6efbda5506c1"
      },
      "outputs": [
        {
          "data": {
            "text/plain": [
              "count    9029.000000\n",
              "mean        2.226383\n",
              "std         1.823395\n",
              "min         0.000000\n",
              "25%         1.000000\n",
              "50%         2.000000\n",
              "75%         3.000000\n",
              "90%         5.000000\n",
              "95%         6.000000\n",
              "99%         7.000000\n",
              "max         8.000000\n",
              "Name: Page Views Per Visit, dtype: float64"
            ]
          },
          "execution_count": 36,
          "metadata": {},
          "output_type": "execute_result"
        }
      ],
      "source": [
        "# Removing values beyond 99% for page Views Per Visit\n",
        "\n",
        "nn_quartile_page_visits = leadInfo['Page Views Per Visit'].quantile(0.99)\n",
        "leadInfo = leadInfo[leadInfo[\"Page Views Per Visit\"] < nn_quartile_page_visits]\n",
        "leadInfo[\"Page Views Per Visit\"].describe(percentiles=[.25,.5,.75,.90,.95,.99])"
      ]
    },
    {
      "cell_type": "code",
      "execution_count": null,
      "metadata": {
        "id": "WPocQ83_93WT",
        "outputId": "bf9a5b41-5dc7-4430-8858-02d5dcad08f6"
      },
      "outputs": [
        {
          "data": {
            "text/html": [
              "<div>\n",
              "<style scoped>\n",
              "    .dataframe tbody tr th:only-of-type {\n",
              "        vertical-align: middle;\n",
              "    }\n",
              "\n",
              "    .dataframe tbody tr th {\n",
              "        vertical-align: top;\n",
              "    }\n",
              "\n",
              "    .dataframe thead th {\n",
              "        text-align: right;\n",
              "    }\n",
              "</style>\n",
              "<table border=\"1\" class=\"dataframe\">\n",
              "  <thead>\n",
              "    <tr style=\"text-align: right;\">\n",
              "      <th></th>\n",
              "      <th>Lead Number</th>\n",
              "      <th>Converted</th>\n",
              "      <th>TotalVisits</th>\n",
              "      <th>Total Time Spent on Website</th>\n",
              "      <th>Page Views Per Visit</th>\n",
              "    </tr>\n",
              "  </thead>\n",
              "  <tbody>\n",
              "    <tr>\n",
              "      <th>count</th>\n",
              "      <td>9029.000000</td>\n",
              "      <td>9029.000000</td>\n",
              "      <td>9029.000000</td>\n",
              "      <td>9029.000000</td>\n",
              "      <td>9029.000000</td>\n",
              "    </tr>\n",
              "    <tr>\n",
              "      <th>mean</th>\n",
              "      <td>617223.248422</td>\n",
              "      <td>0.385092</td>\n",
              "      <td>3.087164</td>\n",
              "      <td>483.133016</td>\n",
              "      <td>2.226383</td>\n",
              "    </tr>\n",
              "    <tr>\n",
              "      <th>std</th>\n",
              "      <td>23372.383121</td>\n",
              "      <td>0.486644</td>\n",
              "      <td>2.801244</td>\n",
              "      <td>547.420675</td>\n",
              "      <td>1.823395</td>\n",
              "    </tr>\n",
              "    <tr>\n",
              "      <th>min</th>\n",
              "      <td>579533.000000</td>\n",
              "      <td>0.000000</td>\n",
              "      <td>0.000000</td>\n",
              "      <td>0.000000</td>\n",
              "      <td>0.000000</td>\n",
              "    </tr>\n",
              "    <tr>\n",
              "      <th>25%</th>\n",
              "      <td>596530.000000</td>\n",
              "      <td>0.000000</td>\n",
              "      <td>1.000000</td>\n",
              "      <td>7.000000</td>\n",
              "      <td>1.000000</td>\n",
              "    </tr>\n",
              "    <tr>\n",
              "      <th>50%</th>\n",
              "      <td>615645.000000</td>\n",
              "      <td>0.000000</td>\n",
              "      <td>3.000000</td>\n",
              "      <td>245.000000</td>\n",
              "      <td>2.000000</td>\n",
              "    </tr>\n",
              "    <tr>\n",
              "      <th>75%</th>\n",
              "      <td>637360.000000</td>\n",
              "      <td>1.000000</td>\n",
              "      <td>4.000000</td>\n",
              "      <td>929.000000</td>\n",
              "      <td>3.000000</td>\n",
              "    </tr>\n",
              "    <tr>\n",
              "      <th>90%</th>\n",
              "      <td>650463.200000</td>\n",
              "      <td>1.000000</td>\n",
              "      <td>7.000000</td>\n",
              "      <td>1378.000000</td>\n",
              "      <td>5.000000</td>\n",
              "    </tr>\n",
              "    <tr>\n",
              "      <th>95%</th>\n",
              "      <td>655351.600000</td>\n",
              "      <td>1.000000</td>\n",
              "      <td>8.000000</td>\n",
              "      <td>1558.000000</td>\n",
              "      <td>6.000000</td>\n",
              "    </tr>\n",
              "    <tr>\n",
              "      <th>99%</th>\n",
              "      <td>659577.800000</td>\n",
              "      <td>1.000000</td>\n",
              "      <td>13.000000</td>\n",
              "      <td>1839.720000</td>\n",
              "      <td>7.000000</td>\n",
              "    </tr>\n",
              "    <tr>\n",
              "      <th>max</th>\n",
              "      <td>660737.000000</td>\n",
              "      <td>1.000000</td>\n",
              "      <td>16.000000</td>\n",
              "      <td>2272.000000</td>\n",
              "      <td>8.000000</td>\n",
              "    </tr>\n",
              "  </tbody>\n",
              "</table>\n",
              "</div>"
            ],
            "text/plain": [
              "         Lead Number    Converted  TotalVisits  Total Time Spent on Website  \\\n",
              "count    9029.000000  9029.000000  9029.000000                  9029.000000   \n",
              "mean   617223.248422     0.385092     3.087164                   483.133016   \n",
              "std     23372.383121     0.486644     2.801244                   547.420675   \n",
              "min    579533.000000     0.000000     0.000000                     0.000000   \n",
              "25%    596530.000000     0.000000     1.000000                     7.000000   \n",
              "50%    615645.000000     0.000000     3.000000                   245.000000   \n",
              "75%    637360.000000     1.000000     4.000000                   929.000000   \n",
              "90%    650463.200000     1.000000     7.000000                  1378.000000   \n",
              "95%    655351.600000     1.000000     8.000000                  1558.000000   \n",
              "99%    659577.800000     1.000000    13.000000                  1839.720000   \n",
              "max    660737.000000     1.000000    16.000000                  2272.000000   \n",
              "\n",
              "       Page Views Per Visit  \n",
              "count           9029.000000  \n",
              "mean               2.226383  \n",
              "std                1.823395  \n",
              "min                0.000000  \n",
              "25%                1.000000  \n",
              "50%                2.000000  \n",
              "75%                3.000000  \n",
              "90%                5.000000  \n",
              "95%                6.000000  \n",
              "99%                7.000000  \n",
              "max                8.000000  "
            ]
          },
          "execution_count": 37,
          "metadata": {},
          "output_type": "execute_result"
        }
      ],
      "source": [
        "# Checking outliers at 25%,50%,75%,90%,95% and above\n",
        "leadInfo.describe(percentiles=[.25,.5,.75,.90,.95,.99])"
      ]
    },
    {
      "cell_type": "code",
      "execution_count": null,
      "metadata": {
        "id": "mGkyM8db93WT",
        "outputId": "2d8d6d76-8b03-44e9-a9ce-4d8c04619ee6"
      },
      "outputs": [
        {
          "name": "stdout",
          "output_type": "stream",
          "text": [
            "97.72\n"
          ]
        }
      ],
      "source": [
        "# Determine the percentage of data retained\n",
        "\n",
        "num_data = round(100*(len(leadInfo)/9240),2)\n",
        "print(num_data)"
      ]
    },
    {
      "cell_type": "markdown",
      "metadata": {
        "id": "a_uU1_g693WT"
      },
      "source": [
        "At this point, the data has been cleaned and around 98% of data has been retained"
      ]
    },
    {
      "cell_type": "markdown",
      "metadata": {
        "id": "EdHw_sWV93WT"
      },
      "source": [
        "### Step 3: Data Analysis\n",
        "Let us try and understand the data now based on each columns effect on the conversion rates"
      ]
    },
    {
      "cell_type": "code",
      "execution_count": 1,
      "metadata": {
        "colab": {
          "base_uri": "https://localhost:8080/",
          "height": 235
        },
        "id": "SIPvdGvE93WU",
        "outputId": "7758962b-edd1-4af2-9dd5-ac6c59f794c2"
      },
      "outputs": [
        {
          "output_type": "error",
          "ename": "NameError",
          "evalue": "ignored",
          "traceback": [
            "\u001b[0;31m---------------------------------------------------------------------------\u001b[0m",
            "\u001b[0;31mNameError\u001b[0m                                 Traceback (most recent call last)",
            "\u001b[0;32m<ipython-input-1-e2dbbe1a221e>\u001b[0m in \u001b[0;36m<module>\u001b[0;34m\u001b[0m\n\u001b[1;32m      1\u001b[0m \u001b[0;31m# Conversion Rate\u001b[0m\u001b[0;34m\u001b[0m\u001b[0;34m\u001b[0m\u001b[0;34m\u001b[0m\u001b[0m\n\u001b[1;32m      2\u001b[0m \u001b[0;34m\u001b[0m\u001b[0m\n\u001b[0;32m----> 3\u001b[0;31m \u001b[0mplot\u001b[0m \u001b[0;34m=\u001b[0m \u001b[0msns\u001b[0m\u001b[0;34m.\u001b[0m\u001b[0mcatplot\u001b[0m\u001b[0;34m(\u001b[0m\u001b[0mx\u001b[0m\u001b[0;34m=\u001b[0m\u001b[0;34m\"Converted\"\u001b[0m\u001b[0;34m,\u001b[0m \u001b[0mkind\u001b[0m\u001b[0;34m=\u001b[0m\u001b[0;34m\"count\"\u001b[0m\u001b[0;34m,\u001b[0m \u001b[0mdata\u001b[0m\u001b[0;34m=\u001b[0m\u001b[0mleadInfo\u001b[0m\u001b[0;34m,\u001b[0m \u001b[0mpalette\u001b[0m\u001b[0;34m=\u001b[0m\u001b[0;34m\"Set2\"\u001b[0m\u001b[0;34m,\u001b[0m \u001b[0maspect\u001b[0m\u001b[0;34m=\u001b[0m \u001b[0;36m0.4\u001b[0m\u001b[0;34m)\u001b[0m\u001b[0;34m;\u001b[0m\u001b[0;34m\u001b[0m\u001b[0;34m\u001b[0m\u001b[0m\n\u001b[0m\u001b[1;32m      4\u001b[0m \u001b[0;34m\u001b[0m\u001b[0m\n\u001b[1;32m      5\u001b[0m \u001b[0mplt\u001b[0m\u001b[0;34m.\u001b[0m\u001b[0mtitle\u001b[0m\u001b[0;34m(\u001b[0m\u001b[0;34m'Converted'\u001b[0m\u001b[0;34m,\u001b[0m \u001b[0mfontsize\u001b[0m \u001b[0;34m=\u001b[0m \u001b[0;36m14\u001b[0m\u001b[0;34m)\u001b[0m\u001b[0;34m\u001b[0m\u001b[0;34m\u001b[0m\u001b[0m\n",
            "\u001b[0;31mNameError\u001b[0m: name 'sns' is not defined"
          ]
        }
      ],
      "source": [
        "# Conversion Rate \n",
        "\n",
        "plot = sns.catplot(x=\"Converted\", kind=\"count\", data=leadInfo, palette=\"Set2\", aspect= 0.4);\n",
        "\n",
        "plt.title('Converted', fontsize = 14)\n",
        "plt.xlabel(\"Converted\", fontsize = 12)\n",
        "plt.ylabel(\"Count\", fontsize = 12)\n",
        "\n",
        "# Print the counts\n",
        "\n",
        "ax = plot.facet_axis(0,0)\n",
        "for p in ax.patches:        \n",
        "    ax.text(p.get_x() + p.get_width()/2., p.get_height(), p.get_height(), fontsize=12, color='blue', ha='center', va='bottom')\n",
        "    \n",
        "plt.show()"
      ]
    },
    {
      "cell_type": "markdown",
      "metadata": {
        "id": "Cg45wl2893WU"
      },
      "source": [
        "From the above graph, there has been a overall conversion rate of around 39%"
      ]
    },
    {
      "cell_type": "code",
      "execution_count": null,
      "metadata": {
        "id": "anO6Puju93WU"
      },
      "outputs": [],
      "source": [
        "# Lead Origin\n",
        "\n",
        "plot = sns.catplot(x=\"Lead Origin\", hue = \"Converted\", kind=\"count\", data=leadInfo, palette=\"Set2\", aspect= 1.7);\n",
        "\n",
        "plt.title('Lead Origin Vs Converted', fontsize = 14)\n",
        "plt.xlabel(\"Lead Origin\", fontsize = 12)\n",
        "plt.ylabel(\"Count\", fontsize = 12)\n",
        "\n",
        "# Print the counts\n",
        "\n",
        "ax = plot.facet_axis(0,0)\n",
        "for p in ax.patches:\n",
        "    \n",
        "    if np.isnan(p.get_height()):\n",
        "        height = 0\n",
        "    else:\n",
        "        height = p.get_height()\n",
        "    \n",
        "    height = int(height)\n",
        "    ax.text(p.get_x()+p.get_width()/2., height, height, fontsize=12, color='blue', ha='center', va='bottom')\n",
        "    \n",
        "plt.show()"
      ]
    },
    {
      "cell_type": "markdown",
      "metadata": {
        "id": "sn6pCcp193WU"
      },
      "source": [
        "From the above graph, it can be seen that the maximum conversion happened from Landing Page Submission\n",
        "Also there was only one request from quick add form which got converted."
      ]
    },
    {
      "cell_type": "code",
      "execution_count": null,
      "metadata": {
        "id": "N7Yh0S-w93WV"
      },
      "outputs": [],
      "source": [
        "# Lead Source\n",
        "\n",
        "plot = sns.catplot(x=\"Lead Source\", hue = \"Converted\", kind=\"count\", data=leadInfo, palette=\"Set2\", aspect = 3.5);\n",
        "\n",
        "plt.title('Lead Source Vs Converted', fontsize = 14)\n",
        "plt.xlabel(\"Lead Source\", fontsize = 12)\n",
        "plt.ylabel(\"Count\", fontsize = 12)\n",
        "plt.xticks(rotation=90)\n",
        "\n",
        "# Print the counts\n",
        "\n",
        "ax = plot.facet_axis(0,0)\n",
        "for p in ax.patches:\n",
        "    \n",
        "    if np.isnan(p.get_height()):\n",
        "        height = 0\n",
        "    else:\n",
        "        height = p.get_height()\n",
        "    \n",
        "    height = int(height)\n",
        "    ax.text(p.get_x()+p.get_width()/2., height, height, fontsize=12, color='blue', ha='center', va='bottom')\n",
        "   \n",
        "plt.show()"
      ]
    },
    {
      "cell_type": "markdown",
      "metadata": {
        "id": "cx-zQVRZ93WV"
      },
      "source": [
        "From the above graph, it can be seen that major conversion in the lead source is from google"
      ]
    },
    {
      "cell_type": "code",
      "execution_count": null,
      "metadata": {
        "id": "EFmnTM4393WV"
      },
      "outputs": [],
      "source": [
        "# Do not Email\n",
        "\n",
        "plot = sns.catplot(x=\"Do Not Email\", hue = \"Converted\", kind=\"count\", data=leadInfo, palette=\"Set2\", aspect = 0.6);\n",
        "\n",
        "plt.title('Do Not Email Vs Converted', fontsize = 14)\n",
        "plt.xlabel(\"Do Not Email\", fontsize = 12)\n",
        "plt.ylabel(\"Count\", fontsize = 12)\n",
        "\n",
        "ax = plot.facet_axis(0,0)\n",
        "for p in ax.patches:        \n",
        "    ax.text(p.get_x() + p.get_width()/2., p.get_height(), p.get_height(), fontsize=12, color='blue', ha='center', va='bottom')\n",
        "\n",
        "plt.show()"
      ]
    },
    {
      "cell_type": "markdown",
      "metadata": {
        "id": "qOZIg4IC93WV"
      },
      "source": [
        "Based on the above graph, major conversion has happend from the emails that have been sent"
      ]
    },
    {
      "cell_type": "code",
      "execution_count": null,
      "metadata": {
        "id": "CSZ0j8pb93WW"
      },
      "outputs": [],
      "source": [
        "# Do not Call\n",
        "\n",
        "plot = sns.catplot(x=\"Do Not Call\", hue = \"Converted\", kind=\"count\", data=leadInfo, palette=\"Set2\", aspect = 0.6);\n",
        "\n",
        "plt.title('Do Not Call Vs Converted', fontsize = 14)\n",
        "plt.xlabel(\"Do Not Call\", fontsize = 12)\n",
        "plt.ylabel(\"Count\", fontsize = 12)\n",
        "\n",
        "# Print the counts\n",
        "\n",
        "ax = plot.facet_axis(0,0)\n",
        "for p in ax.patches:\n",
        "    \n",
        "    if np.isnan(p.get_height()):\n",
        "        height = 0\n",
        "    else:\n",
        "        height = p.get_height()\n",
        "    \n",
        "    height = int(height)\n",
        "    ax.text(p.get_x()+p.get_width()/2., height, height, fontsize=12, color='blue', ha='center', va='bottom')\n",
        "\n",
        "plt.show()"
      ]
    },
    {
      "cell_type": "markdown",
      "metadata": {
        "id": "9hF_lbxD93WW"
      },
      "source": [
        "From the above graph , it can be noticed that major conversions happened when calls were made.\n",
        "However, it can also be seen that 2 leads opted for \"Do Not Call\", but they still got converted."
      ]
    },
    {
      "cell_type": "code",
      "execution_count": null,
      "metadata": {
        "id": "HW0WGwtm93WW"
      },
      "outputs": [],
      "source": [
        "# Last Activity\n",
        "\n",
        "plot = sns.catplot(x=\"Last Activity\", hue = \"Converted\", kind=\"count\", data=leadInfo, palette=\"Set2\", aspect = 3.0);\n",
        "\n",
        "plt.title('Last Activity Vs Converted', fontsize = 14)\n",
        "plt.xlabel(\"Last Activity\", fontsize = 12)\n",
        "plt.ylabel(\"Count\", fontsize = 12)\n",
        "plt.xticks(rotation=90)\n",
        "\n",
        "# Print the counts\n",
        "\n",
        "ax = plot.facet_axis(0,0)\n",
        "for p in ax.patches:\n",
        "    \n",
        "    if np.isnan(p.get_height()):\n",
        "        height = 0\n",
        "    else:\n",
        "        height = p.get_height()\n",
        "    \n",
        "    height = int(height)\n",
        "    ax.text(p.get_x()+p.get_width()/2., height, height, fontsize=12, color='blue', ha='center', va='bottom')\n",
        "\n",
        "plt.show()"
      ]
    },
    {
      "cell_type": "markdown",
      "metadata": {
        "id": "JUzSGIsl93WX"
      },
      "source": [
        "As per the above graph, last activity value of 'SMS Sent' had more conversion"
      ]
    },
    {
      "cell_type": "code",
      "execution_count": null,
      "metadata": {
        "id": "MQaFXmuV93WX"
      },
      "outputs": [],
      "source": [
        "# What is your current occupation\n",
        "\n",
        "plot = sns.catplot(x=\"What is your current occupation\", hue = \"Converted\", kind=\"count\", data=leadInfo, palette=\"Set2\", \n",
        "                   aspect = 2.0);\n",
        "\n",
        "plt.title('Current Occupation Vs Converted', fontsize = 14)\n",
        "plt.xlabel(\"Current Occupation\", fontsize = 12)\n",
        "plt.ylabel(\"Count\", fontsize = 12)\n",
        "\n",
        "# Print the counts\n",
        "\n",
        "ax = plot.facet_axis(0,0)\n",
        "for p in ax.patches:\n",
        "    \n",
        "    if np.isnan(p.get_height()):\n",
        "        height = 0\n",
        "    else:\n",
        "        height = p.get_height()\n",
        "    \n",
        "    height = int(height)\n",
        "    ax.text(p.get_x()+p.get_width()/2., height, height, fontsize=12, color='blue', ha='center', va='bottom')\n",
        "\n",
        "plt.show()"
      ]
    },
    {
      "cell_type": "markdown",
      "metadata": {
        "id": "GTXlFjT_93WX"
      },
      "source": [
        "More conversion happend with people who are unemployed. It can also be noticed from the above data that \n",
        "    - Out of 7 business men, 4 got converted\n",
        "    - Out 10 housewives, all 10 leads got converted."
      ]
    },
    {
      "cell_type": "code",
      "execution_count": null,
      "metadata": {
        "id": "HqpwBfYK93WY"
      },
      "outputs": [],
      "source": [
        "# Search\n",
        "\n",
        "plot = sns.catplot(x=\"Search\", hue = \"Converted\", kind=\"count\", data=leadInfo, palette=\"Set2\", aspect = 0.7);\n",
        "\n",
        "plt.title('Search Vs Converted', fontsize = 14)\n",
        "plt.xlabel(\"Search\", fontsize = 12)\n",
        "plt.ylabel(\"Count\", fontsize = 12)\n",
        "\n",
        "ax = plot.facet_axis(0,0)\n",
        "for p in ax.patches:        \n",
        "    ax.text(p.get_x() + p.get_width()/2., p.get_height(), p.get_height(), fontsize=12, color='blue', ha='center', va='bottom')\n",
        "\n",
        "plt.show()"
      ]
    },
    {
      "cell_type": "markdown",
      "metadata": {
        "id": "aftgjWBr93WY"
      },
      "source": [
        "Conversion rate is high on leads who are not through search"
      ]
    },
    {
      "cell_type": "code",
      "execution_count": null,
      "metadata": {
        "id": "YD8TyuxA93WY"
      },
      "outputs": [],
      "source": [
        "# Newspaper Article\n",
        "\n",
        "plot = sns.catplot(x=\"Newspaper Article\", hue = \"Converted\", kind=\"count\", data=leadInfo, palette=\"Set2\", aspect = 0.5);\n",
        "\n",
        "plt.title('Newspaper Article Vs Converted', fontsize = 14)\n",
        "plt.xlabel(\"Newspaper Article\", fontsize = 12)\n",
        "plt.ylabel(\"Count\", fontsize = 12)\n",
        "\n",
        "ax = plot.facet_axis(0,0)\n",
        "for p in ax.patches:        \n",
        "    ax.text(p.get_x() + p.get_width()/2., p.get_height(), p.get_height(), fontsize=12, color='blue', ha='center', va='bottom')\n",
        "\n",
        "plt.show()"
      ]
    },
    {
      "cell_type": "markdown",
      "metadata": {
        "id": "SS4DhRHj93WZ"
      },
      "source": [
        "Since \"Newspaper Article\" column now has only one value for all rows - \"No\" , it is safe to drop this column"
      ]
    },
    {
      "cell_type": "code",
      "execution_count": null,
      "metadata": {
        "id": "AM8_a7PD93WZ"
      },
      "outputs": [],
      "source": [
        "# Dropping Newspaper Article\n",
        "\n",
        "leadInfo = leadInfo.drop(['Newspaper Article'], axis=1)"
      ]
    },
    {
      "cell_type": "code",
      "execution_count": null,
      "metadata": {
        "id": "UKLrpZGS93Wc"
      },
      "outputs": [],
      "source": [
        "# X Education Forums\n",
        "\n",
        "plot = sns.catplot(x=\"X Education Forums\", hue = \"Converted\", kind=\"count\", data=leadInfo, palette=\"Set2\", aspect = 0.5);\n",
        "\n",
        "plt.title('X Education Forums Vs Converted', fontsize = 14)\n",
        "plt.xlabel(\"X Education Forums\", fontsize = 12)\n",
        "plt.ylabel(\"Count\", fontsize = 12)\n",
        "\n",
        "ax = plot.facet_axis(0,0)\n",
        "for p in ax.patches:        \n",
        "    ax.text(p.get_x() + p.get_width()/2., p.get_height(), p.get_height(), fontsize=12, color='blue', ha='center', va='bottom')\n",
        "\n",
        "plt.show()"
      ]
    },
    {
      "cell_type": "markdown",
      "metadata": {
        "id": "GN12DQNJ93Wc"
      },
      "source": [
        "Since \"X Education Forums\" column now has only one value for all rows - \"No\" , it is safe to drop this column"
      ]
    },
    {
      "cell_type": "code",
      "execution_count": null,
      "metadata": {
        "id": "PfXYIfVY93Wc"
      },
      "outputs": [],
      "source": [
        "# Dropping X Education Forum column\n",
        "\n",
        "leadInfo = leadInfo.drop(['X Education Forums'], axis=1)"
      ]
    },
    {
      "cell_type": "code",
      "execution_count": null,
      "metadata": {
        "id": "ETdR9WzY93Wd"
      },
      "outputs": [],
      "source": [
        "plot = sns.catplot(x=\"Newspaper\", hue = \"Converted\", kind=\"count\", data=leadInfo, palette=\"Set2\", aspect = 0.7);\n",
        "\n",
        "plt.title('Newspaper Vs Converted', fontsize = 14)\n",
        "plt.xlabel(\"Newspaper\", fontsize = 12)\n",
        "plt.ylabel(\"Count\", fontsize = 12)\n",
        "\n",
        "# Print the counts\n",
        "\n",
        "ax = plot.facet_axis(0,0)\n",
        "for p in ax.patches:\n",
        "    \n",
        "    if np.isnan(p.get_height()):\n",
        "        height = 0\n",
        "    else:\n",
        "        height = p.get_height()\n",
        "    \n",
        "    height = int(height)\n",
        "    ax.text(p.get_x()+p.get_width()/2., height, height, fontsize=12, color='blue', ha='center', va='bottom')\n",
        "\n",
        "plt.show()"
      ]
    },
    {
      "cell_type": "markdown",
      "metadata": {
        "id": "9WJi6EMZ93Wd"
      },
      "source": [
        "Since Newspaper column has only one row with \"Yes\" as the value and further since this lead did not get converted and rest of all the values are \"No\", we can safely drop the column"
      ]
    },
    {
      "cell_type": "code",
      "execution_count": null,
      "metadata": {
        "id": "QVwYN5do93Wd"
      },
      "outputs": [],
      "source": [
        "# Dropping Newspaper column\n",
        "\n",
        "leadInfo = leadInfo.drop(['Newspaper'], axis=1)"
      ]
    },
    {
      "cell_type": "code",
      "execution_count": null,
      "metadata": {
        "id": "Bk1O9FKw93We"
      },
      "outputs": [],
      "source": [
        "# Digital Advertisement\n",
        "\n",
        "plot = sns.catplot(x=\"Digital Advertisement\", hue = \"Converted\", kind=\"count\", data=leadInfo, palette=\"Set2\", aspect = 0.7);\n",
        "\n",
        "plt.title('Digital Advertisement Vs Converted', fontsize = 14)\n",
        "plt.xlabel(\"Digital Advertisement\", fontsize = 12)\n",
        "plt.ylabel(\"Count\", fontsize = 12)\n",
        "\n",
        "ax = plot.facet_axis(0,0)\n",
        "for p in ax.patches:        \n",
        "    ax.text(p.get_x() + p.get_width()/2., p.get_height(), p.get_height(), fontsize=12, color='blue', ha='center', va='bottom')\n",
        "\n",
        "plt.show()"
      ]
    },
    {
      "cell_type": "markdown",
      "metadata": {
        "id": "_RpI5GSo93We"
      },
      "source": [
        "It can be noticed above that there were 2 leads that came from digital advertisement of which one lead got converted"
      ]
    },
    {
      "cell_type": "code",
      "execution_count": null,
      "metadata": {
        "id": "VURkdqwe93We"
      },
      "outputs": [],
      "source": [
        "# Through Recommendations\n",
        "\n",
        "plot = sns.catplot(x=\"Through Recommendations\", hue = \"Converted\", kind=\"count\", data=leadInfo, palette=\"Set2\", aspect = 0.7);\n",
        "\n",
        "plt.title('Through Recommendations Vs Converted', fontsize = 14)\n",
        "plt.xlabel(\"Through Recommendations\", fontsize = 12)\n",
        "plt.ylabel(\"Count\", fontsize = 12)\n",
        "\n",
        "ax = plot.facet_axis(0,0)\n",
        "for p in ax.patches:        \n",
        "    ax.text(p.get_x() + p.get_width()/2., p.get_height(), p.get_height(), fontsize=12, color='blue', ha='center', va='bottom')\n",
        "\n",
        "plt.show()"
      ]
    },
    {
      "cell_type": "markdown",
      "metadata": {
        "id": "mpVoUt-u93Wf"
      },
      "source": [
        "It can be seen that a total of 6 leads came through recommendations of which 5 leads got converted"
      ]
    },
    {
      "cell_type": "code",
      "execution_count": null,
      "metadata": {
        "id": "PhquBHXq93Wf"
      },
      "outputs": [],
      "source": [
        "# A free copy of Mastering The Interview\n",
        "\n",
        "plot = sns.catplot(x=\"A free copy of Mastering The Interview\", hue = \"Converted\", kind=\"count\", data=leadInfo, palette=\"Set2\",\n",
        "                   aspect = 0.7);\n",
        "\n",
        "plt.title('Mastering Interview Copy Vs Converted', fontsize = 14)\n",
        "plt.xlabel(\"Mastering Interview Copy\", fontsize = 12)\n",
        "plt.ylabel(\"Count\", fontsize = 12)\n",
        "\n",
        "ax = plot.facet_axis(0,0)\n",
        "for p in ax.patches:        \n",
        "    ax.text(p.get_x() + p.get_width()/2., p.get_height(), p.get_height(), fontsize=12, color='blue', ha='center', va='bottom')\n",
        "\n",
        "plt.show()"
      ]
    },
    {
      "cell_type": "markdown",
      "metadata": {
        "id": "YfF_slz993Wf"
      },
      "source": [
        "Conversion rate is high on leads who do not want a free copy of Mastering Interviews"
      ]
    },
    {
      "cell_type": "code",
      "execution_count": null,
      "metadata": {
        "id": "Ygm0SIM093Wg"
      },
      "outputs": [],
      "source": [
        "# Last Notable Activity\n",
        "\n",
        "plot = sns.catplot(x=\"Last Notable Activity\", hue = \"Converted\", kind=\"count\", data=leadInfo, palette=\"Set2\", aspect = 3.0);\n",
        "\n",
        "plt.title('Last Notable Activity Vs Converted', fontsize = 14)\n",
        "plt.xlabel(\"Last Notable Activity\", fontsize = 12)\n",
        "plt.ylabel(\"Count\", fontsize = 12)\n",
        "plt.xticks(rotation=90)\n",
        "\n",
        "# Print the counts\n",
        "\n",
        "ax = plot.facet_axis(0,0)\n",
        "for p in ax.patches:\n",
        "    \n",
        "    if np.isnan(p.get_height()):\n",
        "        height = 0\n",
        "    else:\n",
        "        height = p.get_height()\n",
        "    \n",
        "    height = int(height)\n",
        "    ax.text(p.get_x()+p.get_width()/2., height, height, fontsize=12, color='blue', ha='center', va='bottom')\n",
        "\n",
        "plt.show()"
      ]
    },
    {
      "cell_type": "markdown",
      "metadata": {
        "id": "A-ZwycvU93Wg"
      },
      "source": [
        "It can be noticed that the conversion rate is high for \"SMS Sent\""
      ]
    },
    {
      "cell_type": "code",
      "execution_count": null,
      "metadata": {
        "id": "_NA56nzI93Wg"
      },
      "outputs": [],
      "source": [
        "# Now check the conversions for all numeric values\n",
        "\n",
        "plt.figure(figsize=(20,20))\n",
        "plt.subplot(4,3,1)\n",
        "sns.barplot(y = 'TotalVisits', x='Converted', palette='Set2', data = leadInfo)\n",
        "plt.subplot(4,3,2)\n",
        "sns.barplot(y = 'Total Time Spent on Website', x='Converted', palette='Set2', data = leadInfo)\n",
        "plt.subplot(4,3,3)\n",
        "sns.barplot(y = 'Page Views Per Visit', x='Converted', palette='Set2', data = leadInfo)\n",
        "plt.show()"
      ]
    },
    {
      "cell_type": "markdown",
      "metadata": {
        "id": "JtibwOBq93Wh"
      },
      "source": [
        "The conversion rated were high for Total Visits, Total Time Spent on Website and Page Views Per Visit"
      ]
    },
    {
      "cell_type": "markdown",
      "metadata": {
        "id": "G13nmI0Q93Wh"
      },
      "source": [
        "## Step 4: Data Preparation - Creating Dummies"
      ]
    },
    {
      "cell_type": "markdown",
      "metadata": {
        "id": "MvIDkLQs93Wh"
      },
      "source": [
        "Converting some binary variables (Yes/No) to 0/1"
      ]
    },
    {
      "cell_type": "code",
      "execution_count": null,
      "metadata": {
        "id": "urpJaUH293Wi"
      },
      "outputs": [],
      "source": [
        "variablelist =  variablelist =  ['Do Not Email', 'Do Not Call', 'Search', 'Digital Advertisement', 'Through Recommendations', \n",
        "                                 'A free copy of Mastering The Interview']\n",
        "\n",
        "# Defining the map function\n",
        "def binary_map(x):\n",
        "    return x.map({'Yes': 1, \"No\": 0})\n",
        "\n",
        "# Applying the function to the columns\n",
        "leadInfo[variablelist] = leadInfo[variablelist].apply(binary_map)"
      ]
    },
    {
      "cell_type": "code",
      "execution_count": null,
      "metadata": {
        "id": "qIpRk6yK93Wi"
      },
      "outputs": [],
      "source": [
        "# Creating dummies for the following columns below\n",
        "\n",
        "# Lead Origin : \n",
        "\n",
        "d_lead_origin = pd.get_dummies(leadInfo['Lead Origin'], prefix='LeadOrigin')\n",
        "# Dropping quick Add Form column\n",
        "d_lead_origin1 = d_lead_origin.drop(['LeadOrigin_Quick Add Form'], 1)\n",
        "#Adding the results to the master dataframe\n",
        "leadInfo = pd.concat([leadInfo, d_lead_origin1], axis = 1)\n",
        "\n",
        "# Lead Source :\n",
        "\n",
        "d_lead_source = pd.get_dummies(leadInfo['Lead Source'], prefix='LeadSource')\n",
        "# Dropping blog column\n",
        "d_lead_source1 = d_lead_source.drop(['LeadSource_NC_EDM'], 1)\n",
        "# Adding the results to the master dataframe\n",
        "leadInfo = pd.concat([leadInfo,d_lead_source1], axis=1)\n",
        "\n",
        "# last Activity\n",
        "\n",
        "d_last_activity = pd.get_dummies(leadInfo['Last Activity'], prefix='LastActivity')\n",
        "# Dropping Resubscribed to emails column\n",
        "d_last_activity1 = d_last_activity.drop(['LastActivity_Resubscribed to emails'], 1)\n",
        "# Adding the results to the master dataframe\n",
        "leadInfo = pd.concat([leadInfo,d_last_activity1], axis=1)\n",
        "\n",
        "# What is your current occupation\n",
        "\n",
        "d_curr_occupation = pd.get_dummies(leadInfo['What is your current occupation'], prefix='CurrentOccupation')\n",
        "# Dropping No Information column\n",
        "d_curr_occupation1 = d_curr_occupation.drop(['CurrentOccupation_Businessman'], 1)\n",
        "# Adding the results to the master dataframe\n",
        "leadInfo = pd.concat([leadInfo,d_curr_occupation1], axis=1)\n",
        "\n",
        "# Last Notable Activity\n",
        "\n",
        "d_last_notable_activity = pd.get_dummies(leadInfo['Last Notable Activity'], prefix='LastNotableActivity')\n",
        "# Dropping Resubscribed to emails column\n",
        "d_last_notable_activity1 = d_last_notable_activity.drop(['LastNotableActivity_Resubscribed to emails'], 1)\n",
        "# Adding the results to the master dataframe\n",
        "leadInfo = pd.concat([leadInfo,d_last_notable_activity1], axis=1)\n",
        "\n",
        "leadInfo.head()"
      ]
    },
    {
      "cell_type": "code",
      "execution_count": null,
      "metadata": {
        "id": "elDeA33O93Wi"
      },
      "outputs": [],
      "source": [
        "# Remove following columns from the leadInfo\n",
        "\n",
        "# a) Prospect ID\n",
        "# b) Lead Numbers\n",
        "# c) Lead Origin\n",
        "# d) Lead Source\n",
        "# e) Last Activity\n",
        "# f) What is your current occupation\n",
        "# g) Last Notable Activity\n",
        "\n",
        "leadInfo = leadInfo.drop(['Prospect ID', 'Lead Number', 'Lead Origin', 'Lead Source', 'Last Activity',\n",
        "                          'What is your current occupation', 'Last Notable Activity'], axis=1)\n"
      ]
    },
    {
      "cell_type": "code",
      "execution_count": 2,
      "metadata": {
        "scrolled": true,
        "colab": {
          "base_uri": "https://localhost:8080/",
          "height": 166
        },
        "id": "ra5FLq0A93Wj",
        "outputId": "3d2c7f36-6a56-4c17-8f10-746729ad8d4f"
      },
      "outputs": [
        {
          "output_type": "error",
          "ename": "NameError",
          "evalue": "ignored",
          "traceback": [
            "\u001b[0;31m---------------------------------------------------------------------------\u001b[0m",
            "\u001b[0;31mNameError\u001b[0m                                 Traceback (most recent call last)",
            "\u001b[0;32m<ipython-input-2-5770a6270765>\u001b[0m in \u001b[0;36m<module>\u001b[0;34m\u001b[0m\n\u001b[0;32m----> 1\u001b[0;31m \u001b[0mleadInfo\u001b[0m\u001b[0;34m.\u001b[0m\u001b[0minfo\u001b[0m\u001b[0;34m(\u001b[0m\u001b[0;34m)\u001b[0m\u001b[0;34m\u001b[0m\u001b[0;34m\u001b[0m\u001b[0m\n\u001b[0m",
            "\u001b[0;31mNameError\u001b[0m: name 'leadInfo' is not defined"
          ]
        }
      ],
      "source": [
        "leadInfo.info()"
      ]
    },
    {
      "cell_type": "code",
      "execution_count": null,
      "metadata": {
        "scrolled": true,
        "id": "19fhL3Fo93Wj"
      },
      "outputs": [],
      "source": [
        "# check for percentage of null values in each column\n",
        "\n",
        "percent_missing = round(100*(leadInfo.isnull().sum()/len(leadInfo.index)), 2)\n",
        "print(percent_missing)"
      ]
    },
    {
      "cell_type": "code",
      "execution_count": null,
      "metadata": {
        "id": "r-HXUZlt93Wj"
      },
      "outputs": [],
      "source": [
        "# check shape of the data frame\n",
        "\n",
        "leadInfo.shape"
      ]
    },
    {
      "cell_type": "markdown",
      "metadata": {
        "id": "89gU8eej93Wk"
      },
      "source": [
        "Since there are around 71 columns, we will not be looking at the correlation using heat map as we will not be able to infer anything from the heat map due to huge data"
      ]
    },
    {
      "cell_type": "markdown",
      "metadata": {
        "id": "Geq4Yl2G93Wk"
      },
      "source": [
        "### Step 5: Test-Train Split"
      ]
    },
    {
      "cell_type": "code",
      "execution_count": null,
      "metadata": {
        "id": "a-mmuRmG93Wk"
      },
      "outputs": [],
      "source": [
        "from sklearn.model_selection import train_test_split"
      ]
    },
    {
      "cell_type": "code",
      "execution_count": null,
      "metadata": {
        "id": "yFF3-V6h93Wl"
      },
      "outputs": [],
      "source": [
        "# Putting feature variable to X\n",
        "\n",
        "X = leadInfo.drop(['Converted'], axis=1)\n",
        "X.head()"
      ]
    },
    {
      "cell_type": "code",
      "execution_count": null,
      "metadata": {
        "id": "dt3iVgkT93Wl"
      },
      "outputs": [],
      "source": [
        "# Putting response variable to y\n",
        "\n",
        "y = leadInfo['Converted']\n",
        "y.head()"
      ]
    },
    {
      "cell_type": "code",
      "execution_count": null,
      "metadata": {
        "id": "_stUjCpT93Wl"
      },
      "outputs": [],
      "source": [
        "# Splitting the data into train and test\n",
        "\n",
        "X_train, X_test, y_train, y_test = train_test_split(X, y, train_size=0.7, test_size=0.3, random_state=42)"
      ]
    },
    {
      "cell_type": "markdown",
      "metadata": {
        "id": "b6FC8Pz893Wl"
      },
      "source": [
        "### Step 6: Rescaling the features with MinMax Scaling"
      ]
    },
    {
      "cell_type": "code",
      "execution_count": 3,
      "metadata": {
        "colab": {
          "base_uri": "https://localhost:8080/",
          "height": 235
        },
        "id": "2-TT6ADQ93Wm",
        "outputId": "b37adc1b-eda7-46e0-829e-80d84b047427"
      },
      "outputs": [
        {
          "output_type": "error",
          "ename": "NameError",
          "evalue": "ignored",
          "traceback": [
            "\u001b[0;31m---------------------------------------------------------------------------\u001b[0m",
            "\u001b[0;31mNameError\u001b[0m                                 Traceback (most recent call last)",
            "\u001b[0;32m<ipython-input-3-80a83887845d>\u001b[0m in \u001b[0;36m<module>\u001b[0;34m\u001b[0m\n\u001b[1;32m      3\u001b[0m \u001b[0mscaler\u001b[0m \u001b[0;34m=\u001b[0m \u001b[0mMinMaxScaler\u001b[0m\u001b[0;34m(\u001b[0m\u001b[0;34m)\u001b[0m\u001b[0;34m\u001b[0m\u001b[0;34m\u001b[0m\u001b[0m\n\u001b[1;32m      4\u001b[0m \u001b[0;34m\u001b[0m\u001b[0m\n\u001b[0;32m----> 5\u001b[0;31m X_train[['TotalVisits','Total Time Spent on Website','Page Views Per Visit']] = scaler.fit_transform(X_train[['TotalVisits',\n\u001b[0m\u001b[1;32m      6\u001b[0m                                                                         'Total Time Spent on Website','Page Views Per Visit']])\n\u001b[1;32m      7\u001b[0m \u001b[0;34m\u001b[0m\u001b[0m\n",
            "\u001b[0;31mNameError\u001b[0m: name 'X_train' is not defined"
          ]
        }
      ],
      "source": [
        "from sklearn.preprocessing import MinMaxScaler\n",
        "\n",
        "scaler = MinMaxScaler()\n",
        "\n",
        "X_train[['TotalVisits','Total Time Spent on Website','Page Views Per Visit']] = scaler.fit_transform(X_train[['TotalVisits',\n",
        "                                                                        'Total Time Spent on Website','Page Views Per Visit']])\n",
        "\n",
        "X_train.head()"
      ]
    },
    {
      "cell_type": "code",
      "execution_count": null,
      "metadata": {
        "id": "SozTKwpa93Wm"
      },
      "outputs": [],
      "source": [
        "### Checking the Conversion Rate percentage\n",
        "\n",
        "converted = (sum(leadInfo['Converted'])/len(leadInfo['Converted'].index))*100\n",
        "converted"
      ]
    },
    {
      "cell_type": "markdown",
      "metadata": {
        "id": "Q4reBruQ93Wo"
      },
      "source": [
        "#### We have almost 39% conversion rate"
      ]
    },
    {
      "cell_type": "markdown",
      "metadata": {
        "id": "uh9UaZ9E93Wp"
      },
      "source": [
        "### Step 7: Model Building\n",
        "Assessing the model with StatsModels"
      ]
    },
    {
      "cell_type": "markdown",
      "metadata": {
        "id": "rx_7yPsJ93Wp"
      },
      "source": [
        "#### Running the Initial Training Model"
      ]
    },
    {
      "cell_type": "code",
      "execution_count": null,
      "metadata": {
        "id": "xtM1HWVo93Wp"
      },
      "outputs": [],
      "source": [
        "import statsmodels.api as sm"
      ]
    },
    {
      "cell_type": "code",
      "execution_count": null,
      "metadata": {
        "id": "3EFhEdWd93Wp"
      },
      "outputs": [],
      "source": [
        "# Logistic regression model\n",
        "logm1 = sm.GLM(y_train,(sm.add_constant(X_train)), family = sm.families.Binomial())\n",
        "logm1.fit().summary()"
      ]
    },
    {
      "cell_type": "markdown",
      "metadata": {
        "id": "KBtHVFvJ93Wq"
      },
      "source": [
        "### Step 8: Feature Selection Using RFE"
      ]
    },
    {
      "cell_type": "code",
      "execution_count": null,
      "metadata": {
        "id": "9dlEOURm93Wq"
      },
      "outputs": [],
      "source": [
        "from sklearn.linear_model import LogisticRegression\n",
        "logreg = LogisticRegression()"
      ]
    },
    {
      "cell_type": "code",
      "execution_count": null,
      "metadata": {
        "id": "wIbJJ2s-93Wq"
      },
      "outputs": [],
      "source": [
        "from sklearn.feature_selection import RFE\n",
        "\n",
        "# running RFE with 20 variables as output\n",
        "\n",
        "rfe = RFE(logreg, 20)            \n",
        "rfe = rfe.fit(X_train, y_train)"
      ]
    },
    {
      "cell_type": "code",
      "execution_count": null,
      "metadata": {
        "id": "DQT4KrRz93Wr"
      },
      "outputs": [],
      "source": [
        "rfe.support_"
      ]
    },
    {
      "cell_type": "code",
      "execution_count": null,
      "metadata": {
        "scrolled": true,
        "id": "mPiKH0_Z93Wr"
      },
      "outputs": [],
      "source": [
        "list(zip(X_train.columns, rfe.support_, rfe.ranking_))"
      ]
    },
    {
      "cell_type": "code",
      "execution_count": null,
      "metadata": {
        "id": "arO3cvW293Wy"
      },
      "outputs": [],
      "source": [
        "# variables shortlisted by RFE\n",
        "\n",
        "col = X_train.columns[rfe.support_]\n",
        "col"
      ]
    },
    {
      "cell_type": "markdown",
      "metadata": {
        "id": "cm0hoMZC93Wy"
      },
      "source": [
        "#### Rebuilding Model - Model 2"
      ]
    },
    {
      "cell_type": "code",
      "execution_count": null,
      "metadata": {
        "id": "X5dOaYUd93Wz"
      },
      "outputs": [],
      "source": [
        "X_train_sm = sm.add_constant(X_train[col])\n",
        "logm2 = sm.GLM(y_train,X_train_sm, family = sm.families.Binomial())\n",
        "res = logm2.fit()\n",
        "res.summary()"
      ]
    },
    {
      "cell_type": "markdown",
      "metadata": {
        "id": "Q94hkXun93Wz"
      },
      "source": [
        "Removing column LastActivity_Approached_Upfront as it has a high pvalue and hence is insignificant"
      ]
    },
    {
      "cell_type": "code",
      "execution_count": null,
      "metadata": {
        "id": "VxwFrpPk93Wz"
      },
      "outputs": [],
      "source": [
        "col = col.drop('LastActivity_Approached upfront',1)"
      ]
    },
    {
      "cell_type": "markdown",
      "metadata": {
        "id": "4m0XEW_h93Wz"
      },
      "source": [
        "#### Rebuilding Model - Model 3"
      ]
    },
    {
      "cell_type": "code",
      "execution_count": null,
      "metadata": {
        "id": "4xT4-khl93W0"
      },
      "outputs": [],
      "source": [
        "X_train_sm = sm.add_constant(X_train[col])\n",
        "logm3 = sm.GLM(y_train,X_train_sm, family = sm.families.Binomial())\n",
        "res = logm3.fit()\n",
        "res.summary()"
      ]
    },
    {
      "cell_type": "markdown",
      "metadata": {
        "id": "_f4MwdN293W0"
      },
      "source": [
        "Removing column CurrentOccupation_Housewife as it has a high pvalue and hence is insignificant"
      ]
    },
    {
      "cell_type": "code",
      "execution_count": null,
      "metadata": {
        "id": "3GnRmPZ_93W0"
      },
      "outputs": [],
      "source": [
        "col = col.drop('CurrentOccupation_Housewife',1)"
      ]
    },
    {
      "cell_type": "markdown",
      "metadata": {
        "id": "HsE0dzve93W0"
      },
      "source": [
        "#### Rebuilding Model - Model 4"
      ]
    },
    {
      "cell_type": "code",
      "execution_count": null,
      "metadata": {
        "id": "jZZsTtxV93W0"
      },
      "outputs": [],
      "source": [
        "X_train_sm = sm.add_constant(X_train[col])\n",
        "logm4 = sm.GLM(y_train,X_train_sm, family = sm.families.Binomial())\n",
        "res = logm4.fit()\n",
        "res.summary()"
      ]
    },
    {
      "cell_type": "markdown",
      "metadata": {
        "id": "5HVZO18093W0"
      },
      "source": [
        "Removing column LastActivity_Had a Phone Conversation as it has high pvalue and hence is insignificant"
      ]
    },
    {
      "cell_type": "code",
      "execution_count": null,
      "metadata": {
        "id": "kNs4RL4q93W0"
      },
      "outputs": [],
      "source": [
        "col = col.drop('LastActivity_Had a Phone Conversation',1)"
      ]
    },
    {
      "cell_type": "markdown",
      "metadata": {
        "id": "zoFzqJ7O93W1"
      },
      "source": [
        "#### Rebuilding Model - Model 5"
      ]
    },
    {
      "cell_type": "code",
      "execution_count": null,
      "metadata": {
        "id": "iWSAeNIv93W1"
      },
      "outputs": [],
      "source": [
        "X_train_sm = sm.add_constant(X_train[col])\n",
        "logm5 = sm.GLM(y_train,X_train_sm, family = sm.families.Binomial())\n",
        "res = logm5.fit()\n",
        "res.summary()"
      ]
    },
    {
      "cell_type": "markdown",
      "metadata": {
        "id": "1MlGjEJW93W1"
      },
      "source": [
        "Removing column LeadSource_Facebook as it has high pvalue and hence is insignificant "
      ]
    },
    {
      "cell_type": "code",
      "execution_count": null,
      "metadata": {
        "id": "SaezMLCh93W1"
      },
      "outputs": [],
      "source": [
        "col = col.drop('LeadSource_Facebook',1)"
      ]
    },
    {
      "cell_type": "markdown",
      "metadata": {
        "id": "yj701UdL93W1"
      },
      "source": [
        "#### Rebuilding Model - Model 6"
      ]
    },
    {
      "cell_type": "code",
      "execution_count": null,
      "metadata": {
        "id": "v2-bdYUG93W1"
      },
      "outputs": [],
      "source": [
        "X_train_sm = sm.add_constant(X_train[col])\n",
        "logm6 = sm.GLM(y_train,X_train_sm, family = sm.families.Binomial())\n",
        "res = logm6.fit()\n",
        "res.summary()"
      ]
    },
    {
      "cell_type": "markdown",
      "metadata": {
        "id": "t26BfiOV93W2"
      },
      "source": [
        "Removing column LeadOrigin_API as it has high pvalue and hence insignificant"
      ]
    },
    {
      "cell_type": "code",
      "execution_count": null,
      "metadata": {
        "id": "IzDv4k4t93W2"
      },
      "outputs": [],
      "source": [
        "col = col.drop('LeadOrigin_API',1)"
      ]
    },
    {
      "cell_type": "markdown",
      "metadata": {
        "id": "xqpf8ZeM93W2"
      },
      "source": [
        "#### Rebuilding Model - Model 7"
      ]
    },
    {
      "cell_type": "code",
      "execution_count": null,
      "metadata": {
        "id": "JZhoGgiQ93W2"
      },
      "outputs": [],
      "source": [
        "X_train_sm = sm.add_constant(X_train[col])\n",
        "logm7 = sm.GLM(y_train,X_train_sm, family = sm.families.Binomial())\n",
        "res = logm7.fit()\n",
        "res.summary()"
      ]
    },
    {
      "cell_type": "markdown",
      "metadata": {
        "id": "KxXeCt-O93W2"
      },
      "source": [
        "Since the Model 7 seems to be stable with significant pvalues, we shall go ahead with this model for further analysis"
      ]
    },
    {
      "cell_type": "code",
      "execution_count": null,
      "metadata": {
        "id": "qk_fhnrb93W3"
      },
      "outputs": [],
      "source": [
        "# Getting the predicted values on the train set\n",
        "\n",
        "y_train_pred = res.predict(X_train_sm)\n",
        "y_train_pred[:10]"
      ]
    },
    {
      "cell_type": "code",
      "execution_count": null,
      "metadata": {
        "id": "AAvhfLG793W3"
      },
      "outputs": [],
      "source": [
        "# Reshape\n",
        "\n",
        "y_train_pred = y_train_pred.values.reshape(-1)\n",
        "y_train_pred[:10]"
      ]
    },
    {
      "cell_type": "markdown",
      "metadata": {
        "id": "wDdJOJXE93W3"
      },
      "source": [
        "##### Creating a dataframe with the actual converted flag and the predicted probabilities"
      ]
    },
    {
      "cell_type": "code",
      "execution_count": null,
      "metadata": {
        "id": "whQ0ul5193W3"
      },
      "outputs": [],
      "source": [
        "y_train_pred_final = pd.DataFrame({'Converted':y_train.values, 'Converted_Prob':y_train_pred})\n",
        "y_train_pred_final['LeadId'] = y_train.index\n",
        "y_train_pred_final.head()"
      ]
    },
    {
      "cell_type": "markdown",
      "metadata": {
        "id": "7px3wBei93W4"
      },
      "source": [
        "##### Creating new column 'predicted' with 1 if Converted_Prob > 0.5 else 0"
      ]
    },
    {
      "cell_type": "code",
      "execution_count": null,
      "metadata": {
        "id": "PLA-PSYx93W4"
      },
      "outputs": [],
      "source": [
        "y_train_pred_final['predicted'] = y_train_pred_final.Converted_Prob.map(lambda x: 1 if x > 0.5 else 0)\n",
        "y_train_pred_final.head()"
      ]
    },
    {
      "cell_type": "markdown",
      "metadata": {
        "id": "qcqGuQ_W93W4"
      },
      "source": [
        "##### Lets check the confusion metrics and accuracy"
      ]
    },
    {
      "cell_type": "code",
      "execution_count": null,
      "metadata": {
        "id": "kAOmXLwD93W4"
      },
      "outputs": [],
      "source": [
        "from sklearn import metrics"
      ]
    },
    {
      "cell_type": "code",
      "execution_count": null,
      "metadata": {
        "id": "Ze_ufzw093W5"
      },
      "outputs": [],
      "source": [
        "# Confusion matrix \n",
        "\n",
        "confusion = metrics.confusion_matrix(y_train_pred_final.Converted, y_train_pred_final.predicted )\n",
        "print(confusion)"
      ]
    },
    {
      "cell_type": "code",
      "execution_count": null,
      "metadata": {
        "id": "FaMG2Y2M93W5"
      },
      "outputs": [],
      "source": [
        "# Predicted     not_converted    converted\n",
        "# Actual\n",
        "# not_converted        3397      461\n",
        "# converted            725       1737"
      ]
    },
    {
      "cell_type": "code",
      "execution_count": null,
      "metadata": {
        "id": "pLgnzVci93W5"
      },
      "outputs": [],
      "source": [
        "# Let's check the overall accuracy.\n",
        "\n",
        "print(metrics.accuracy_score(y_train_pred_final.Converted, y_train_pred_final.predicted))"
      ]
    },
    {
      "cell_type": "markdown",
      "metadata": {
        "id": "_v9USXVQ93W5"
      },
      "source": [
        "Accuracy rate is around 81% which is good. However we will also need to calculate the other metrics as we cannot depend only \n",
        "on the accuracy metrics"
      ]
    },
    {
      "cell_type": "markdown",
      "metadata": {
        "id": "b9_7m6YL93W6"
      },
      "source": [
        "##### Checking VIFs"
      ]
    },
    {
      "cell_type": "code",
      "execution_count": null,
      "metadata": {
        "id": "JbD038P_93W6"
      },
      "outputs": [],
      "source": [
        "from statsmodels.stats.outliers_influence import variance_inflation_factor\n",
        "\n",
        "# Create a dataframe that will contain the names of all the feature variables and their respective VIFs\n",
        "\n",
        "vif = pd.DataFrame()\n",
        "vif['Features'] = X_train[col].columns\n",
        "vif['VIF'] = [variance_inflation_factor(X_train[col].values, i) for i in range(X_train[col].shape[1])]\n",
        "vif['VIF'] = round(vif['VIF'], 2)\n",
        "vif = vif.sort_values(by = \"VIF\", ascending = False)\n",
        "vif"
      ]
    },
    {
      "cell_type": "markdown",
      "metadata": {
        "id": "wzYoUtmN93W6"
      },
      "source": [
        "All variables have a good value of VIF. So we need not drop any more variables and we can proceed with making predictions using this model only"
      ]
    },
    {
      "cell_type": "markdown",
      "metadata": {
        "id": "IuVE9HsZ93W6"
      },
      "source": [
        "##### Metrics - Sensitivity, Specificity, False Positive Rate, Postitive Predictive Value and Negative Predictive Value"
      ]
    },
    {
      "cell_type": "code",
      "execution_count": null,
      "metadata": {
        "id": "hEnHcjNy93W7"
      },
      "outputs": [],
      "source": [
        "TP = confusion[1,1] # true positive \n",
        "TN = confusion[0,0] # true negatives\n",
        "FP = confusion[0,1] # false positives\n",
        "FN = confusion[1,0] # false negatives"
      ]
    },
    {
      "cell_type": "code",
      "execution_count": null,
      "metadata": {
        "id": "JJJTJhh093W7"
      },
      "outputs": [],
      "source": [
        "# Let's see the sensitivity of our logistic regression model\n",
        "\n",
        "TP / float(TP+FN)"
      ]
    },
    {
      "cell_type": "code",
      "execution_count": null,
      "metadata": {
        "id": "FTPefXkE93W7"
      },
      "outputs": [],
      "source": [
        "# Let us calculate specificity\n",
        "\n",
        "TN / float(TN+FP)"
      ]
    },
    {
      "cell_type": "code",
      "execution_count": null,
      "metadata": {
        "id": "SFYNlHcN93W8"
      },
      "outputs": [],
      "source": [
        "# Calculate false postive rate - predicting non conversion when leads have converted\n",
        "\n",
        "print(FP/ float(TN+FP))"
      ]
    },
    {
      "cell_type": "code",
      "execution_count": null,
      "metadata": {
        "id": "QeR-qKy593W8"
      },
      "outputs": [],
      "source": [
        "# positive predictive value \n",
        "\n",
        "print (TP / float(TP+FP))"
      ]
    },
    {
      "cell_type": "code",
      "execution_count": null,
      "metadata": {
        "id": "0qg_DGI993W8"
      },
      "outputs": [],
      "source": [
        "# Negative predictive value\n",
        "\n",
        "print (TN / float(TN+ FN))"
      ]
    },
    {
      "cell_type": "markdown",
      "metadata": {
        "id": "NKBxtoyw93W8"
      },
      "source": [
        "### Step 9: Plotting the ROC Curve"
      ]
    },
    {
      "cell_type": "markdown",
      "metadata": {
        "id": "l_LaPuln93W9"
      },
      "source": [
        "An ROC curve demonstrates several things:\n",
        "\n",
        "- It shows the tradeoff between sensitivity and specificity (any increase in sensitivity will be accompanied by a decrease in specificity).\n",
        "- The closer the curve follows the left-hand border and then the top border of the ROC space, the more accurate the test.\n",
        "- The closer the curve comes to the 45-degree diagonal of the ROC space, the less accurate the test."
      ]
    },
    {
      "cell_type": "code",
      "execution_count": null,
      "metadata": {
        "id": "zzuLMXF993W9"
      },
      "outputs": [],
      "source": [
        "def draw_roc( actual, probs ):\n",
        "    fpr, tpr, thresholds = metrics.roc_curve( actual, probs,\n",
        "                                              drop_intermediate = False )\n",
        "    auc_score = metrics.roc_auc_score( actual, probs )\n",
        "    plt.figure(figsize=(5, 5))\n",
        "    plt.plot( fpr, tpr, label='ROC curve (area = %0.2f)' % auc_score )\n",
        "    plt.plot([0, 1], [0, 1], 'k--')\n",
        "    plt.xlim([0.0, 1.0])\n",
        "    plt.ylim([0.0, 1.05])\n",
        "    plt.xlabel('False Positive Rate or [1 - True Negative Rate]')\n",
        "    plt.ylabel('True Positive Rate')\n",
        "    plt.title('Receiver operating characteristic example')\n",
        "    plt.legend(loc=\"lower right\")\n",
        "    plt.show()\n",
        "\n",
        "    return None"
      ]
    },
    {
      "cell_type": "code",
      "execution_count": null,
      "metadata": {
        "id": "9JsaEnlL93W9"
      },
      "outputs": [],
      "source": [
        "fpr, tpr, thresholds = metrics.roc_curve( y_train_pred_final.Converted, y_train_pred_final.Converted_Prob, \n",
        "                                         drop_intermediate = False )"
      ]
    },
    {
      "cell_type": "code",
      "execution_count": null,
      "metadata": {
        "id": "2AVA4tqR93W9"
      },
      "outputs": [],
      "source": [
        "draw_roc(y_train_pred_final.Converted, y_train_pred_final.Converted_Prob)"
      ]
    },
    {
      "cell_type": "markdown",
      "metadata": {
        "id": "wZxtEPKa93W-"
      },
      "source": [
        "### Step 10: Finding Optimal Cutoff Point"
      ]
    },
    {
      "cell_type": "markdown",
      "metadata": {
        "id": "8qxKWRLU93W-"
      },
      "source": [
        "Optimal cut off probability is that prob where we get balanced sensitivity and specificity"
      ]
    },
    {
      "cell_type": "code",
      "execution_count": null,
      "metadata": {
        "id": "UuuB9IC493XA"
      },
      "outputs": [],
      "source": [
        "# Let's create columns with different probability cutoffs \n",
        "numbers = [float(x)/10 for x in range(10)]\n",
        "for i in numbers:\n",
        "    y_train_pred_final[i]= y_train_pred_final.Converted_Prob.map(lambda x: 1 if x > i else 0)\n",
        "y_train_pred_final.head()"
      ]
    },
    {
      "cell_type": "code",
      "execution_count": null,
      "metadata": {
        "id": "HQNd435K93XB"
      },
      "outputs": [],
      "source": [
        "# Now let's calculate accuracy sensitivity and specificity for various probability cutoffs.\n",
        "\n",
        "cutoff_df = pd.DataFrame( columns = ['prob','accuracy','sensi','speci'])\n",
        "from sklearn.metrics import confusion_matrix\n",
        "\n",
        "# TP = confusion[1,1] # true positive \n",
        "# TN = confusion[0,0] # true negatives\n",
        "# FP = confusion[0,1] # false positives\n",
        "# FN = confusion[1,0] # false negatives\n",
        "\n",
        "num = [0.0,0.1,0.2,0.3,0.4,0.5,0.6,0.7,0.8,0.9]\n",
        "for i in num:\n",
        "    cm1 = metrics.confusion_matrix(y_train_pred_final.Converted, y_train_pred_final[i] )\n",
        "    total1=sum(sum(cm1))\n",
        "    accuracy = (cm1[0,0]+cm1[1,1])/total1\n",
        "    \n",
        "    speci = cm1[0,0]/(cm1[0,0]+cm1[0,1])\n",
        "    sensi = cm1[1,1]/(cm1[1,0]+cm1[1,1])\n",
        "    cutoff_df.loc[i] =[ i ,accuracy,sensi,speci]\n",
        "print(cutoff_df)"
      ]
    },
    {
      "cell_type": "code",
      "execution_count": null,
      "metadata": {
        "id": "x6oB369y93XB"
      },
      "outputs": [],
      "source": [
        "# Let's plot accuracy sensitivity and specificity for various probabilities.\n",
        "\n",
        "cutoff_df.plot.line(x='prob', y=['accuracy','sensi','speci'])\n",
        "plt.show()"
      ]
    },
    {
      "cell_type": "markdown",
      "metadata": {
        "id": "4DwFsNbK93XB"
      },
      "source": [
        "##### From the curve above, 0.37 is the optimum point to take it as a cutoff probability."
      ]
    },
    {
      "cell_type": "code",
      "execution_count": null,
      "metadata": {
        "id": "rR_Ef-Af93XB"
      },
      "outputs": [],
      "source": [
        "# Let us make the final prediction using 0.37 as the cut off\n",
        "\n",
        "y_train_pred_final['final_predicted'] = y_train_pred_final.Converted_Prob.map( lambda x: 1 if x > 0.37 else 0)\n",
        "y_train_pred_final.head()"
      ]
    },
    {
      "cell_type": "code",
      "execution_count": null,
      "metadata": {
        "id": "TuQ7It-R93XC"
      },
      "outputs": [],
      "source": [
        "# Now let us calculate the lead score\n",
        "\n",
        "y_train_pred_final['lead_score'] = y_train_pred_final.Converted_Prob.map(lambda x: round(x*100))\n",
        "y_train_pred_final.head(20)"
      ]
    },
    {
      "cell_type": "code",
      "execution_count": null,
      "metadata": {
        "id": "DgIwgGFg93XC"
      },
      "outputs": [],
      "source": [
        "# checking if 80% cases are correctly predicted based on the converted column.\n",
        "\n",
        "# get the total of final predicted conversion / non conversion counts from the actual converted rates\n",
        "\n",
        "checking_df = y_train_pred_final.loc[y_train_pred_final['Converted']==1,['Converted','final_predicted']]\n",
        "checking_df['final_predicted'].value_counts()"
      ]
    },
    {
      "cell_type": "code",
      "execution_count": null,
      "metadata": {
        "id": "V9M8tl3q93XC"
      },
      "outputs": [],
      "source": [
        "# check the precentage of final_predicted conversions\n",
        "\n",
        "1965/float(1965+497)"
      ]
    },
    {
      "cell_type": "markdown",
      "metadata": {
        "id": "1w1NB03s93XC"
      },
      "source": [
        "##### Hence we can see that the final prediction of conversions have a target of 80% (79.8%) conversion as per the X Educations CEO's requirement . Hence this is a good model."
      ]
    },
    {
      "cell_type": "markdown",
      "metadata": {
        "id": "KRTZr7ii93XD"
      },
      "source": [
        "##### Overall Metrics - Accuracy, Confusion Metrics, Sensitivity, Specificity, False Postive Rate, Positive Predictive Value, Negative Predicitive Value  on final prediction on train set"
      ]
    },
    {
      "cell_type": "code",
      "execution_count": null,
      "metadata": {
        "id": "uR-VJLx193XD"
      },
      "outputs": [],
      "source": [
        "# Let's check the overall accuracy.\n",
        "\n",
        "metrics.accuracy_score(y_train_pred_final.Converted, y_train_pred_final.final_predicted)"
      ]
    },
    {
      "cell_type": "code",
      "execution_count": null,
      "metadata": {
        "id": "0zjnnL7193XD"
      },
      "outputs": [],
      "source": [
        "confusion2 = metrics.confusion_matrix(y_train_pred_final.Converted, y_train_pred_final.final_predicted )\n",
        "confusion2"
      ]
    },
    {
      "cell_type": "code",
      "execution_count": null,
      "metadata": {
        "id": "2t4X-zTg93XD"
      },
      "outputs": [],
      "source": [
        "TP = confusion2[1,1] # true positive \n",
        "TN = confusion2[0,0] # true negatives\n",
        "FP = confusion2[0,1] # false positives\n",
        "FN = confusion2[1,0] # false negatives"
      ]
    },
    {
      "cell_type": "code",
      "execution_count": null,
      "metadata": {
        "id": "OdEvbYGU93XD"
      },
      "outputs": [],
      "source": [
        "# Let's see the sensitivity of our logistic regression model\n",
        "\n",
        "TP / float(TP+FN)"
      ]
    },
    {
      "cell_type": "code",
      "execution_count": null,
      "metadata": {
        "id": "_fV87FWs93XD"
      },
      "outputs": [],
      "source": [
        "# Let us calculate specificity\n",
        "\n",
        "TN / float(TN+FP)"
      ]
    },
    {
      "cell_type": "code",
      "execution_count": null,
      "metadata": {
        "id": "kafuiEFV93XE"
      },
      "outputs": [],
      "source": [
        "# Calculate false postive rate - predicting conversions when leads has not converted\n",
        "\n",
        "print(FP/ float(TN+FP))"
      ]
    },
    {
      "cell_type": "code",
      "execution_count": null,
      "metadata": {
        "id": "8BllSXGb93XE"
      },
      "outputs": [],
      "source": [
        "# Positive predictive value \n",
        "\n",
        "print (TP / float(TP+FP))"
      ]
    },
    {
      "cell_type": "code",
      "execution_count": null,
      "metadata": {
        "id": "-hobO7cB93XE"
      },
      "outputs": [],
      "source": [
        "# Negative predictive value\n",
        "\n",
        "print (TN / float(TN+ FN))"
      ]
    },
    {
      "cell_type": "markdown",
      "metadata": {
        "id": "2W3yLMVm93XE"
      },
      "source": [
        "##### Metrics - Precision and Recall"
      ]
    },
    {
      "cell_type": "code",
      "execution_count": null,
      "metadata": {
        "id": "s7ALAAPk93XF"
      },
      "outputs": [],
      "source": [
        "#Looking at the confusion matrix again\n",
        "\n",
        "confusion = metrics.confusion_matrix(y_train_pred_final.Converted, y_train_pred_final.predicted )\n",
        "confusion"
      ]
    },
    {
      "cell_type": "code",
      "execution_count": null,
      "metadata": {
        "id": "a2_3xYbQ93XF"
      },
      "outputs": [],
      "source": [
        "from sklearn.metrics import precision_score, recall_score"
      ]
    },
    {
      "cell_type": "code",
      "execution_count": null,
      "metadata": {
        "id": "tubCrnxX93XF"
      },
      "outputs": [],
      "source": [
        "# precision\n",
        "\n",
        "precision_score(y_train_pred_final.Converted, y_train_pred_final.predicted)"
      ]
    },
    {
      "cell_type": "code",
      "execution_count": null,
      "metadata": {
        "id": "LecL2RtL93XF"
      },
      "outputs": [],
      "source": [
        "# recall\n",
        "\n",
        "recall_score(y_train_pred_final.Converted, y_train_pred_final.predicted)"
      ]
    },
    {
      "cell_type": "markdown",
      "metadata": {
        "id": "-fV9G5ci93XG"
      },
      "source": [
        "### Precision and recall tradeoff"
      ]
    },
    {
      "cell_type": "code",
      "execution_count": null,
      "metadata": {
        "id": "1J_7DBqc93XG"
      },
      "outputs": [],
      "source": [
        "from sklearn.metrics import precision_recall_curve"
      ]
    },
    {
      "cell_type": "code",
      "execution_count": null,
      "metadata": {
        "id": "1vNhInG593XG"
      },
      "outputs": [],
      "source": [
        "y_train_pred_final.Converted, y_train_pred_final.predicted"
      ]
    },
    {
      "cell_type": "code",
      "execution_count": null,
      "metadata": {
        "id": "8v8PZpjg93XG"
      },
      "outputs": [],
      "source": [
        "p, r, thresholds = precision_recall_curve(y_train_pred_final.Converted, y_train_pred_final.Converted_Prob)"
      ]
    },
    {
      "cell_type": "code",
      "execution_count": null,
      "metadata": {
        "id": "oirbbZek93XG"
      },
      "outputs": [],
      "source": [
        "plt.plot(thresholds, p[:-1], \"g-\")\n",
        "plt.plot(thresholds, r[:-1], \"r-\")\n",
        "plt.show()"
      ]
    },
    {
      "cell_type": "markdown",
      "metadata": {
        "id": "jrTiSJ5393XI"
      },
      "source": [
        "### Step 11: Making predictions on the test set"
      ]
    },
    {
      "cell_type": "code",
      "execution_count": null,
      "metadata": {
        "id": "IvjQ4R3n93XJ"
      },
      "outputs": [],
      "source": [
        "X_test[['TotalVisits','Total Time Spent on Website','Page Views Per Visit']] = scaler.transform(X_test[['TotalVisits',\n",
        "                                                                        'Total Time Spent on Website','Page Views Per Visit']])"
      ]
    },
    {
      "cell_type": "code",
      "execution_count": null,
      "metadata": {
        "id": "1JSwJPYA93XJ"
      },
      "outputs": [],
      "source": [
        "X_test = X_test[col]\n",
        "X_test.head()"
      ]
    },
    {
      "cell_type": "code",
      "execution_count": null,
      "metadata": {
        "id": "xdOJ7vQt93XJ"
      },
      "outputs": [],
      "source": [
        "X_test_sm = sm.add_constant(X_test)"
      ]
    },
    {
      "cell_type": "markdown",
      "metadata": {
        "id": "yBJeKvpf93XJ"
      },
      "source": [
        "Making predictions on the test set"
      ]
    },
    {
      "cell_type": "code",
      "execution_count": null,
      "metadata": {
        "id": "ax_jQH_A93XK"
      },
      "outputs": [],
      "source": [
        "y_test_pred = res.predict(X_test_sm)"
      ]
    },
    {
      "cell_type": "code",
      "execution_count": null,
      "metadata": {
        "id": "CSEipqoy93XK"
      },
      "outputs": [],
      "source": [
        "y_test_pred[:10]"
      ]
    },
    {
      "cell_type": "code",
      "execution_count": null,
      "metadata": {
        "id": "yl8b-zIz93XK"
      },
      "outputs": [],
      "source": [
        "# Converting y_pred to a dataframe which is an array\n",
        "\n",
        "y_pred_1 = pd.DataFrame(y_test_pred)"
      ]
    },
    {
      "cell_type": "code",
      "execution_count": null,
      "metadata": {
        "id": "rgt5IK1z93XK"
      },
      "outputs": [],
      "source": [
        "# Let's see the head\n",
        "\n",
        "y_pred_1.head()"
      ]
    },
    {
      "cell_type": "code",
      "execution_count": null,
      "metadata": {
        "id": "J1a_Voqn93XL"
      },
      "outputs": [],
      "source": [
        "# Converting y_test to dataframe\n",
        "\n",
        "y_test_df = pd.DataFrame(y_test)"
      ]
    },
    {
      "cell_type": "code",
      "execution_count": null,
      "metadata": {
        "id": "hwYAUsqY93XL"
      },
      "outputs": [],
      "source": [
        "# Putting LeadId to index\n",
        "\n",
        "y_test_df['LeadId'] = y_test_df.index"
      ]
    },
    {
      "cell_type": "code",
      "execution_count": null,
      "metadata": {
        "id": "XmdLwIef93XL"
      },
      "outputs": [],
      "source": [
        "# Removing index for both dataframes to append them side by side \n",
        "\n",
        "y_pred_1.reset_index(drop=True, inplace=True)\n",
        "y_test_df.reset_index(drop=True, inplace=True)"
      ]
    },
    {
      "cell_type": "code",
      "execution_count": null,
      "metadata": {
        "id": "dQRPN2h693XM"
      },
      "outputs": [],
      "source": [
        "# Appending y_test_df and y_pred_1\n",
        "\n",
        "y_pred_final = pd.concat([y_test_df, y_pred_1],axis=1)"
      ]
    },
    {
      "cell_type": "code",
      "execution_count": null,
      "metadata": {
        "id": "wgXwhhj893XM"
      },
      "outputs": [],
      "source": [
        "y_pred_final.head()"
      ]
    },
    {
      "cell_type": "code",
      "execution_count": null,
      "metadata": {
        "id": "1mhUqh4893XM"
      },
      "outputs": [],
      "source": [
        "# Renaming the column \n",
        "\n",
        "y_pred_final= y_pred_final.rename(columns={ 0 : 'Converted_Prob'})"
      ]
    },
    {
      "cell_type": "code",
      "execution_count": null,
      "metadata": {
        "id": "YVBlJmKK93XM"
      },
      "outputs": [],
      "source": [
        "# Rearranging the columns\n",
        "\n",
        "y_pred_final = y_pred_final.reindex_axis(['LeadId','Converted','Converted_Prob'], axis=1)"
      ]
    },
    {
      "cell_type": "code",
      "execution_count": null,
      "metadata": {
        "id": "jSlsEp1E93XM"
      },
      "outputs": [],
      "source": [
        "y_pred_final.head()"
      ]
    },
    {
      "cell_type": "code",
      "execution_count": null,
      "metadata": {
        "id": "rRTjZwiC93XM"
      },
      "outputs": [],
      "source": [
        "# Based on cut off threshold using accuracy, sensitivity and specificity of 0.37%\n",
        "\n",
        "y_pred_final['final_predicted'] = y_pred_final.Converted_Prob.map(lambda x: 1 if x > 0.37 else 0)"
      ]
    },
    {
      "cell_type": "code",
      "execution_count": null,
      "metadata": {
        "id": "wTW0BdVu93XN"
      },
      "outputs": [],
      "source": [
        "y_pred_final.head()"
      ]
    },
    {
      "cell_type": "code",
      "execution_count": null,
      "metadata": {
        "id": "MVLUp2iu93XN"
      },
      "outputs": [],
      "source": [
        "# Now let us calculate the lead score\n",
        "\n",
        "y_pred_final['lead_score'] = y_pred_final.Converted_Prob.map(lambda x: round(x*100))\n",
        "y_pred_final.head(20)"
      ]
    },
    {
      "cell_type": "code",
      "execution_count": null,
      "metadata": {
        "id": "Citw4f6i93XN"
      },
      "outputs": [],
      "source": [
        "# checking if 80% cases are correctly predicted based on the converted column.\n",
        "\n",
        "# get the total of final predicted conversion or non conversion counts from the actual converted rates\n",
        "\n",
        "checking_test_df = y_pred_final.loc[y_pred_final['Converted']==1,['Converted','final_predicted']]\n",
        "checking_test_df['final_predicted'].value_counts()"
      ]
    },
    {
      "cell_type": "code",
      "execution_count": null,
      "metadata": {
        "id": "iNvz29ye93XN"
      },
      "outputs": [],
      "source": [
        "# check the precentage of final_predicted conversions on test data\n",
        "\n",
        "797/float(797+218)"
      ]
    },
    {
      "cell_type": "markdown",
      "metadata": {
        "id": "VCJw5LAT93XO"
      },
      "source": [
        "##### Hence we can see that the final prediction of conversions have a target rate of 79% (78.5%) (Around 1 % short of the predictions made on training data set)"
      ]
    },
    {
      "cell_type": "markdown",
      "metadata": {
        "id": "PSMjA0Rx93XO"
      },
      "source": [
        "##### Overall Metrics - Accuracy, Confusion Metrics, Sensitivity, Specificity  on test set"
      ]
    },
    {
      "cell_type": "code",
      "execution_count": null,
      "metadata": {
        "id": "6W5eqJDP93XO"
      },
      "outputs": [],
      "source": [
        "# Let's check the accuracy.\n",
        "\n",
        "metrics.accuracy_score(y_pred_final.Converted, y_pred_final.final_predicted)"
      ]
    },
    {
      "cell_type": "code",
      "execution_count": null,
      "metadata": {
        "id": "W50m0rC293XO"
      },
      "outputs": [],
      "source": [
        "confusion2 = metrics.confusion_matrix(y_pred_final.Converted, y_pred_final.final_predicted )\n",
        "confusion2"
      ]
    },
    {
      "cell_type": "code",
      "execution_count": null,
      "metadata": {
        "id": "ivxOh2Jh93XO"
      },
      "outputs": [],
      "source": [
        "TP = confusion2[1,1] # true positive \n",
        "TN = confusion2[0,0] # true negatives\n",
        "FP = confusion2[0,1] # false positives\n",
        "FN = confusion2[1,0] # false negatives"
      ]
    },
    {
      "cell_type": "code",
      "execution_count": null,
      "metadata": {
        "id": "K8v24Gct93XO"
      },
      "outputs": [],
      "source": [
        "# Let's see the sensitivity of our logistic regression model\n",
        "TP / float(TP+FN)"
      ]
    },
    {
      "cell_type": "code",
      "execution_count": null,
      "metadata": {
        "id": "5WVq8I4Y93XP"
      },
      "outputs": [],
      "source": [
        "# Let us calculate specificity\n",
        "TN / float(TN+FP)"
      ]
    },
    {
      "cell_type": "markdown",
      "metadata": {
        "id": "JhnZHp9793XP"
      },
      "source": [
        "##### Precision and Recall metrics for the test set "
      ]
    },
    {
      "cell_type": "code",
      "execution_count": null,
      "metadata": {
        "id": "70_a6rxD93XP"
      },
      "outputs": [],
      "source": [
        "# precision\n",
        "print('precision ',precision_score(y_pred_final.Converted, y_pred_final.final_predicted))\n",
        "\n",
        "# recall\n",
        "print('recall ',recall_score(y_pred_final.Converted, y_pred_final.final_predicted))"
      ]
    },
    {
      "cell_type": "code",
      "execution_count": null,
      "metadata": {
        "id": "p4E5Hf3393XP"
      },
      "outputs": [],
      "source": [
        "\n",
        "p, r, thresholds = precision_recall_curve(y_pred_final.Converted, y_pred_final.Converted_Prob)\n",
        "\n",
        "plt.plot(thresholds, p[:-1], \"g-\")\n",
        "plt.plot(thresholds, r[:-1], \"r-\")\n",
        "plt.show()"
      ]
    },
    {
      "cell_type": "markdown",
      "metadata": {
        "id": "YPau8Lto93XP"
      },
      "source": [
        "Conclusion :\n",
        "    \n",
        "    - While we have checked both Sensitivity-Specificity as well as Precision and Recall Metrics, we have considered the\n",
        "      optimal \n",
        "      cut off based on Sensitivity and Specificity for calculating the final prediction.\n",
        "    - Accuracy, Sensitivity and Specificity values of test set are around 81%, 79% and 82% which are approximately closer to \n",
        "      the respective values calculated using trained set.\n",
        "    - Also the lead score calculated in the trained set of data shows the conversion rate on the final predicted model is \n",
        "      around 80%\n",
        "    - Hence overall this model seems to be good.   "
      ]
    }
  ],
  "metadata": {
    "kernelspec": {
      "display_name": "Python 3",
      "language": "python",
      "name": "python3"
    },
    "language_info": {
      "codemirror_mode": {
        "name": "ipython",
        "version": 3
      },
      "file_extension": ".py",
      "mimetype": "text/x-python",
      "name": "python",
      "nbconvert_exporter": "python",
      "pygments_lexer": "ipython3",
      "version": "3.7.0"
    },
    "colab": {
      "provenance": []
    }
  },
  "nbformat": 4,
  "nbformat_minor": 0
}